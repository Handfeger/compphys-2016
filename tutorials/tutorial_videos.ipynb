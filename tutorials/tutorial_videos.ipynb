{
 "cells": [
  {
   "cell_type": "markdown",
   "metadata": {},
   "source": [
    "<table style=\"width: 100%; border-style: none;\">\n",
    "<tr style=\"border-style: none\">\n",
    "<td style=\"border-style: none; width: 1%; font-size: 16px\">Institut f&uuml;r Theoretische Physik<br /> Universit&auml;t zu K&ouml;ln</td>\n",
    "<td style=\"border-style: none; width: 1%; font-size: 16px\">&nbsp;</td>\n",
    "<td style=\"border-style: none; width: 1%; text-align: right; font-size: 16px\">Prof. Dr. Simon Trebst<br />Peter Br&ouml;cker</td>\n",
    "</tr>\n",
    "</table>\n",
    "<hr>\n",
    "<h1 style=\"font-weight:bold; text-align: center; margin: 0px; padding:0px;\">Computerphysik</h1>\n",
    "<h1 style=\"font-weight:bold; text-align: center; margin: 0px; padding:0px;\">Tutorial:   Animationen als Video speichern</h1>\n",
    "<hr>\n",
    "<h3 style=\"font-weight:bold; text-align: center; margin: 0px; padding:0px; margin-bottom: 20px;\">Sommersemester 2016</h3>\n",
    "\n",
    "**Website:** [http://www.thp.uni-koeln.de/trebst/Lectures/2016-CompPhys.shtml](http://www.thp.uni-koeln.de/trebst/Lectures/2016-CompPhys.shtml)"
   ]
  },
  {
   "cell_type": "markdown",
   "metadata": {},
   "source": [
    "# Einleitung\n",
    "\n",
    "Auf den vorherigen Übungsblättern haben Sie eine Reihe von Aufgaben bearbeitet, in denen wir  zeitabhängige Phänomene betrachten. Naturgemäß möchten wir in diesem Fall die Ergebnisse der Iteration zeitaufgelöst darstellen. In diesem Notebook demonstrieren wir, wie man eine Sequenz von Bildern, die ebendiese Iterationsschritte repräsentieren, in ein Video umwandelt.\n",
    "\n",
    "Dazu benutzen wir das Programm *ffmpeg*, das Sie für [Linux](http://ffmpeg.org/download.html#build-linux), [Windows](http://ffmpeg.org/download.html#build-windows) und [MacOSX](http://ffmpeg.org/download.html#build-mac) von der [offiziellen Homepage](http://ffmpeg.org/) herunterladen können. \n",
    "\n",
    "Unter **Linux** besteht die Möglichkeit, dass Sie das Programm direkt über Ihre Paketverwaltung installieren können. Unter **MacOS X** müssen sie lediglich das *zip*-Archiv entpacken. Unter **Windows** müssen sie wahrscheinlich zusätzlich das Programm [7-Zip](http://www.7-zip.org/) herunterladen, um das Archiv zu entpacken. "
   ]
  },
  {
   "cell_type": "markdown",
   "metadata": {},
   "source": [
    "# Installation\n",
    "\n",
    "\n",
    "Unter Linux und MacOS X kann die gesamte Installation über dieses Notebook erfolgen, wie wir nun erläutern. Wir erstellen dazu in Ihrem privaten Nutzerverzeichnis einen Unterordner *.local*, in den wir die aktuelle Version von *ffmpeg* herunterladen und entpacken.\n",
    "\n",
    "Unter Windows können wir lediglich die derzeit aktuellen Links angeben und ausführen, um die Installation zu starten.\n",
    "\n",
    "Falls Sie *ffmpeg* bereits auf anderem Wege installiert haben, können Sie diesen Teil überspringen."
   ]
  },
  {
   "cell_type": "code",
   "execution_count": null,
   "metadata": {
    "collapsed": false
   },
   "outputs": [],
   "source": [
    "cd(ENV[\"HOME\"])\n",
    "if !isdir(\".local\") mkdir(\".local\") end\n",
    "cd(\".local\")\n",
    "println(\"Installiere 'ffmpeg' im Ordner \", pwd())\n",
    "\n",
    "# os = 0    Linux\n",
    "# os = 1    MacOS X\n",
    "# os = 2    Windows\n",
    "\n",
    "os = @linux? 0 : @osx? 1 : 2\n",
    "\n",
    "path_to_ffmpeg = \"\"\n",
    "\n",
    "if os == 0\n",
    "    download(\"http://johnvansickle.com/ffmpeg/builds/ffmpeg-git-64bit-static.tar.xz\", \"ffmpeg.tar.xz\") \n",
    "    run(`tar xfv ffmpeg.tar.xz`)\n",
    "    ffmpeg_file = split(readall(`find . -name ffmpeg`))[1][2:end]\n",
    "    path_to_ffmpeg = pwd() * ffmpeg_file\n",
    "    \n",
    "    println(\"Benutzen Sie von nun diese Variable: path_to_ffmpeg = \", path_to_ffmpeg)\n",
    "end\n",
    "\n",
    "if os == 1\n",
    "    if !isfile(\"ffmpeg\")\n",
    "        download(\"http://www.ffmpegmac.net/resources/SnowLeopard_Lion_Mountain_Lion_Mavericks_Yosemite_El-Captain_02.05.2016.zip\", \"ffmpeg.zip\")\n",
    "        run(pipeline(`unzip ffmpeg.zip`))    \n",
    "    end\n",
    "    path_to_ffmpeg = pwd() * \"/ffmpeg\"\n",
    "    \n",
    "    println(\"Benutzen Sie von nun diese Variable: path_to_ffmpeg = \", path_to_ffmpeg)\n",
    "end\n",
    "\n",
    "if os == 2\n",
    "    download(\"http://7-zip.org/a/7z1600-x64.exe\", \"7zip.exe\")\n",
    "    run(pipeline(`7zip.exe`))\n",
    "    download(\"https://ffmpeg.zeranoe.com/builds/win64/static/ffmpeg-20160531-git-a1953d4-win64-static.7z\", \"ffmpeg.7z\")\n",
    "end   \n",
    "\n"
   ]
  },
  {
   "cell_type": "markdown",
   "metadata": {},
   "source": [
    "# Beispieldaten\n",
    "\n",
    "Wir generieren nun Beispieldaten und speichern nach jedem Iterationsschritt ein Bild. Anstatt jedes mal ein neues Bild zu zeichnen, aktualisieren wir die Grafik mit dem Befehl *set_data*."
   ]
  },
  {
   "cell_type": "code",
   "execution_count": null,
   "metadata": {
    "collapsed": false
   },
   "outputs": [],
   "source": [
    "using PyPlot\n",
    "\n",
    "ts = 0:0.01:4\n",
    "xs, ys = 0.7*cos(ts*pi), 0.7*sin(ts*pi)\n",
    "\n",
    "# deaktiviere die Anzeige des letzten Plots\n",
    "ioff()\n",
    "\n",
    "fig, ax = subplots(figsize=(6, 6))\n",
    "\n",
    "# Zeichne eine Linie ...\n",
    "line = ax[:plot]([0, xs[1]], [0, ys[1]], \"-\", color=\"black\")[1]\n",
    "\n",
    "# ... und einen Punkt\n",
    "dot = ax[:plot](xs[1], ys[1], \"o\", markeredgecolor=\"none\", markerfacecolor=\"#850000\", markersize=20)[1]\n",
    "\n",
    "# Ploteinstellungen\n",
    "xlim([-1, 1])\n",
    "ylim([-1, 1])\n",
    "axis(\"off\")\n",
    "\n",
    "for i in 1:length(xs)\n",
    "    # aktualisiere Bilddaten\n",
    "    line[:set_data]([0, xs[i]], [0, ys[i]])\n",
    "    dot[:set_data]([xs[i]], [ys[i]])\n",
    "    \n",
    "    # konvertiere Index in String m i t führenden Nullen\n",
    "    # wichtig für Ordnung im Dateisystem\n",
    "    a = @sprintf \"%04d\" i\n",
    "    savefig(\"movie_$(a).png\")\n",
    "end\n",
    "close(fig)\n",
    "ion()\n",
    "    "
   ]
  },
  {
   "cell_type": "markdown",
   "metadata": {},
   "source": [
    "# Erzeugung des Videos\n",
    "\n",
    "\n",
    "Der Pfad zur ausführbaren Datei ffmpeg(.exe für Windowsnutzer) muss in der Variable *path_to_ffmpeg* gespeichert sein. Wir übergeben nun die folgenden Argumente:\n",
    "\n",
    "- *start_number* - Startindex\n",
    "- *framerate* - Bilder pro Sekunde\n",
    "- *i* - Dateinamenmuster\n",
    "- *vcodec* - zu verwendender Videocodec, in diesem Fall mp4\n",
    "- *s* - Videogröße\n",
    "- *pix_fmt* - Bildformat für das Video\n",
    "\n",
    "Je nach Situation macht es Sinn die *framerate* und die Bildgröße über *s* anzupassen."
   ]
  },
  {
   "cell_type": "code",
   "execution_count": null,
   "metadata": {
    "collapsed": false
   },
   "outputs": [],
   "source": [
    "if isfile(\"test_movie.mp4\")\n",
    "    rm(\"test_movie.mp4\")\n",
    "end\n",
    "\n",
    "run(`$(path_to_ffmpeg) -start_number 1 -framerate 25 -i movie_%04d.png -vcodec libx264 -s 640x640 -pix_fmt yuv420p test_movie.mp4`);\n",
    "\n",
    "for i in 1:length(xs)\n",
    "    a = @sprintf \"%04d\" i\n",
    "    rm(\"movie_$(a).png\")\n",
    "end"
   ]
  },
  {
   "cell_type": "markdown",
   "metadata": {},
   "source": [
    "# Anzeige des Videos\n",
    "\n",
    "Wir benutzen nun die Funktion *display* des Notebooks, mit dem wir HTML Code in den Ausgabezellen darstellen können, um ein mp4 zu laden und direkt vom Browser abspielen zu lassen."
   ]
  },
  {
   "cell_type": "code",
   "execution_count": null,
   "metadata": {
    "collapsed": false
   },
   "outputs": [],
   "source": [
    "base64_video = base64encode(open(readbytes,\"test_movie.mp4\"))\n",
    "display(\"text/html\", string(\"\"\"<video autoplay controls><source src=\"data:video/x-m4v;base64,\"\"\",\n",
    "base64_video,\"\"\"\" type=\"video/mp4\"></video>\"\"\"));"
   ]
  },
  {
   "cell_type": "code",
   "execution_count": null,
   "metadata": {
    "collapsed": true
   },
   "outputs": [],
   "source": []
  }
 ],
 "metadata": {
  "kernelspec": {
   "display_name": "Julia 0.4.5",
   "language": "julia",
   "name": "julia-0.4"
  },
  "language_info": {
   "file_extension": ".jl",
   "mimetype": "application/julia",
   "name": "julia",
   "version": "0.4.5"
  }
 },
 "nbformat": 4,
 "nbformat_minor": 0
}
