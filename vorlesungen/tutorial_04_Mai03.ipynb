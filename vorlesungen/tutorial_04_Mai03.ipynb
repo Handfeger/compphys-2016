{
 "cells": [
  {
   "cell_type": "markdown",
   "metadata": {
    "hide_input": true
   },
   "source": [
    "<table style=\"width: 100%; border-style: none;\">\n",
    "<tr style=\"border-style: none\">\n",
    "<td style=\"border-style: none; width: 1%; font-size: 16px\">Institut f&uuml;r Theoretische Physik<br /> Universit&auml;t zu K&ouml;ln</td>\n",
    "<td style=\"border-style: none; width: 1%; font-size: 16px\">&nbsp;</td>\n",
    "<td style=\"border-style: none; width: 1%; text-align: right; font-size: 16px\">Prof. Dr. Simon Trebst<br />Peter Br&ouml;cker</td>\n",
    "</tr>\n",
    "</table>\n",
    "<hr>\n",
    "<h1 style=\"font-weight:bold; text-align: center; margin: 0px; padding:0px;\">Computerphysik</h1>\n",
    "<h1 style=\"font-weight:bold; text-align: center; margin: 0px; padding:0px;\">Vorlesung 4 - Verarbeitung Experimenteller Daten</h1>\n",
    "<hr>\n",
    "<h3 style=\"font-weight:bold; text-align: center; margin: 0px; padding:0px; margin-bottom: 20px;\">Sommersemester 2016</h3>\n",
    "\n",
    "**Website:** [http://www.thp.uni-koeln.de/trebst/Lectures/2016-CompPhys.shtml](http://www.thp.uni-koeln.de/trebst/Lectures/2016-CompPhys.shtml)"
   ]
  },
  {
   "cell_type": "markdown",
   "metadata": {},
   "source": [
    "## Beschreibung des Experiments\n",
    "\n",
    "Im Rahmen dieser Vorlesung wollen wir erarbeiten, wie man experimentelle Daten, die zum Beispiel während eines Praktikumsversuchs gewonnen wurden, mit Julia verarbeiten kann. Ein im Grundstudium häufig durchgeführtes Experiment ist das [Pohlsche Rad](https://de.wikipedia.org/wiki/Pohlsches_Rad) als Beispiel für resonante und chaotische Schwingvorgänge. Daran angelehnt betrachten wir die folgende Differentialgleichung, die einen durch eine Kraft $F$ getriebenen Oszillator mit Reibungskoeffizienten $b$ beschreibt."
   ]
  },
  {
   "cell_type": "markdown",
   "metadata": {},
   "source": [
    "$\\quad m\\dfrac{d^2x}{dt^2} + b\\dfrac{dx}{dt}+kx = F \\sin(\\omega t)$\n",
    "\n",
    "$\\quad \\dfrac{d^2x}{dt^2} + \\dfrac{b}{m} \\dfrac{dx}{dt}+\\dfrac{k}{m}x = \\dfrac{1}{m}F \\sin(\\omega t)$"
   ]
  },
  {
   "cell_type": "markdown",
   "metadata": {},
   "source": [
    " Das Ziel des Versuchs ist es zunächst die Federkonstante $k$ zu bestimmen und dann durch einen Fit den Reibungskoeffizienten $b$ zu finden."
   ]
  },
  {
   "cell_type": "markdown",
   "metadata": {
    "hide_input": true
   },
   "source": [
    "## 1. Installation von Paketen"
   ]
  },
  {
   "cell_type": "code",
   "execution_count": 9,
   "metadata": {
    "collapsed": false,
    "hide_input": false
   },
   "outputs": [
    {
     "name": "stderr",
     "output_type": "stream",
     "text": [
      "INFO: Nothing to be done\n",
      "INFO: METADATA is out-of-date — you may not have the latest version of DataFrames\n",
      "INFO: Use `Pkg.update()` to get the latest versions of your packages\n",
      "INFO: Nothing to be done\n",
      "INFO: METADATA is out-of-date — you may not have the latest version of ExcelReaders\n",
      "INFO: Use `Pkg.update()` to get the latest versions of your packages\n",
      "INFO: Nothing to be done\n",
      "INFO: METADATA is out-of-date — you may not have the latest version of LsqFit\n",
      "INFO: Use `Pkg.update()` to get the latest versions of your packages\n"
     ]
    },
    {
     "name": "stdout",
     "output_type": "stream",
     "text": [
      "Searching for uncertainties\n",
      "Best match: uncertainties 2.4.8.1\n",
      "Processing uncertainties-2.4.8.1-py2.7.egg\n",
      "uncertainties 2.4.8.1 is already the active version in easy-install.pth\n",
      "\n",
      "Using /Users/peter/Library/Python/2.7/lib/python/site-packages/uncertainties-2.4.8.1-py2.7.egg\n",
      "Processing dependencies for uncertainties\n",
      "Finished processing dependencies for uncertainties\n"
     ]
    }
   ],
   "source": [
    "Pkg.add(\"DataFrames\")\n",
    "Pkg.add(\"ExcelReaders\")\n",
    "Pkg.add(\"LsqFit\")\n",
    "run(`easy_install --user uncertainties`)"
   ]
  },
  {
   "cell_type": "markdown",
   "metadata": {},
   "source": [
    "## 2. Download der experimentellen Daten"
   ]
  },
  {
   "cell_type": "code",
   "execution_count": 10,
   "metadata": {
    "collapsed": false
   },
   "outputs": [
    {
     "name": "stderr",
     "output_type": "stream",
     "text": [
      "  % Total    % Received % Xferd  Average Speed   Time    Time     Time  Current\n",
      "                                 Dload  Upload   Total   Spent    Left  Speed\n",
      "100  7583    0  7583    0     0   8963      0 --:--:-- --:--:-- --:--:-- 17273\n",
      "  % Total    % Received % Xferd  Average Speed   Time    Time     Time  Current\n",
      "                                 Dload  Upload   Total   Spent    Left  Speed\n",
      "100   246    0   246    0     0    485      0 --:--:-- --:--:-- --:--:--   489\n"
     ]
    }
   ],
   "source": [
    "download(\"https://docs.google.com/spreadsheets/d/1p3zgKZ_lFKdiefQUCR-4UNMieWcINNXGUypvJzrA9jo/pub?output=xlsx\", \"experimental_data.xlsx\");\n",
    "download(\"https://docs.google.com/spreadsheets/d/1p3zgKZ_lFKdiefQUCR-4UNMieWcINNXGUypvJzrA9jo/pub?output=csv\", \"experimental_data.csv\");"
   ]
  },
  {
   "cell_type": "markdown",
   "metadata": {},
   "source": [
    "## 3. Datenformate"
   ]
  },
  {
   "cell_type": "markdown",
   "metadata": {
    "hide_input": true
   },
   "source": [
    "**CSV** Format - **c**omma **s**eparated **v**alues\n",
    "\n",
    "Universell lesbar und leicht automatisch generierbar. Wie sehen sie aus?"
   ]
  },
  {
   "cell_type": "code",
   "execution_count": null,
   "metadata": {
    "collapsed": false,
    "hide_input": false
   },
   "outputs": [],
   "source": []
  },
  {
   "cell_type": "markdown",
   "metadata": {},
   "source": [
    "Wir können die Daten mit dem Paket *DataFrames* einlesen (und schreiben):"
   ]
  },
  {
   "cell_type": "code",
   "execution_count": null,
   "metadata": {
    "collapsed": false,
    "hide_input": false
   },
   "outputs": [],
   "source": []
  },
  {
   "cell_type": "code",
   "execution_count": null,
   "metadata": {
    "collapsed": false,
    "hide_input": false
   },
   "outputs": [],
   "source": []
  },
  {
   "cell_type": "markdown",
   "metadata": {},
   "source": [
    "Alternativen: Excel, OpenDocument (LibreOffice, OpenOffice, ...)\n",
    "- Gut geeignet für übersichtliche Eingabe per Hand und Vorschauplots\n",
    "- Mehrere Blätter (=Versuche) pro Dokument möglich\n",
    "- Paket *ExcelReaders* ermöglicht Zugriff"
   ]
  },
  {
   "cell_type": "code",
   "execution_count": null,
   "metadata": {
    "collapsed": false,
    "hide_input": false
   },
   "outputs": [],
   "source": []
  },
  {
   "cell_type": "markdown",
   "metadata": {},
   "source": [
    "## 4. Darstellung der Ergebnisse im $\\LaTeX$ - Look"
   ]
  },
  {
   "cell_type": "markdown",
   "metadata": {},
   "source": [
    "Beide Einlesemethoden, CSV und Excel, liefern den Typ *DataArray* zurück, den wir für die Darstellung noch einmal in einen gewöhnlichen Array konvertieren müssen:"
   ]
  },
  {
   "cell_type": "code",
   "execution_count": null,
   "metadata": {
    "collapsed": true,
    "hide_input": false
   },
   "outputs": [],
   "source": []
  },
  {
   "cell_type": "markdown",
   "metadata": {},
   "source": [
    "Insbesondere in den fortgeschritteneren Praktika werden Sie umfangreiche Protokolle anfertigen, zumeist in LaTeX. Um das Aussehen der Grafiken dem des Textes anzupassen, können Sie das folgende Codeschnipsel für Ihre Plots verwenden:"
   ]
  },
  {
   "cell_type": "code",
   "execution_count": null,
   "metadata": {
    "collapsed": false,
    "hide_input": false
   },
   "outputs": [],
   "source": []
  },
  {
   "cell_type": "markdown",
   "metadata": {},
   "source": [
    "## 5. Bestimmung von $k$"
   ]
  },
  {
   "cell_type": "markdown",
   "metadata": {},
   "source": [
    "In der Praxis ist das Ausrechnung von Fehlern kombinierter Größen oft eine komplizierte Angelegenheit. Bei der Eingabe langer Ausdrücke für die partiellen Ableitungen in ein Tabellenkalkulationsprogramm schleichen sich oft Fehler ein, die schwierig zu finden sind. Deshalb zeigen wir Ihnen wie man dieses Problem zumindest teilweise an das Paket *uncertainties* übergeben kann."
   ]
  },
  {
   "cell_type": "code",
   "execution_count": null,
   "metadata": {
    "collapsed": false,
    "hide_input": false
   },
   "outputs": [],
   "source": []
  },
  {
   "cell_type": "markdown",
   "metadata": {},
   "source": [
    "Wir erstellen einen Array aus den gemessenen Daten für die Masse und die Schwingungsperiode"
   ]
  },
  {
   "cell_type": "code",
   "execution_count": null,
   "metadata": {
    "collapsed": false,
    "hide_input": false
   },
   "outputs": [],
   "source": []
  },
  {
   "cell_type": "markdown",
   "metadata": {},
   "source": [
    "Für jeden Array können wir uns die Messwerte ..."
   ]
  },
  {
   "cell_type": "code",
   "execution_count": null,
   "metadata": {
    "collapsed": false,
    "hide_input": false
   },
   "outputs": [],
   "source": []
  },
  {
   "cell_type": "markdown",
   "metadata": {},
   "source": [
    "... und deren Fehler ausgeben lassen:"
   ]
  },
  {
   "cell_type": "code",
   "execution_count": null,
   "metadata": {
    "collapsed": false,
    "hide_input": false
   },
   "outputs": [],
   "source": []
  },
  {
   "cell_type": "markdown",
   "metadata": {},
   "source": [
    "Die Berechnung von Mittelwerten ist noch nicht implementiert, deswegen werden wir es an dieser Stelle tun:"
   ]
  },
  {
   "cell_type": "code",
   "execution_count": null,
   "metadata": {
    "collapsed": false,
    "hide_input": false
   },
   "outputs": [],
   "source": []
  },
  {
   "cell_type": "markdown",
   "metadata": {},
   "source": [
    "Zuguterletzt müssen wir noch den Ausdruck für unsere kombinierte Größe eingeben, und zwar in einer Form, die ein wenig an ein Tabellenkalkulationprogramm erinnert:"
   ]
  },
  {
   "cell_type": "code",
   "execution_count": null,
   "metadata": {
    "collapsed": false,
    "hide_input": false
   },
   "outputs": [],
   "source": []
  },
  {
   "cell_type": "markdown",
   "metadata": {},
   "source": [
    "## 6. Bestimmung von $b$ durch fitten"
   ]
  },
  {
   "cell_type": "markdown",
   "metadata": {},
   "source": [
    "Aus der exakten Lösung wissen wir, dass die Amplitude die folgende Form besitzt:\n",
    "\n",
    "$\\quad A = \\dfrac{F}{\\sqrt{m^2 (\\frac{k}{m} - \\omega^2)^2 + b^2 \\omega^2}}$\n",
    "\n",
    "Bis auf den Parameter $b$ kennen wir alle Größen, so dass wir ein Modell erstellen können, dass wir an die Daten fitten:"
   ]
  },
  {
   "cell_type": "code",
   "execution_count": 7,
   "metadata": {
    "collapsed": false,
    "hide_input": true
   },
   "outputs": [],
   "source": [
    "using LsqFit"
   ]
  },
  {
   "cell_type": "code",
   "execution_count": 8,
   "metadata": {
    "collapsed": false,
    "hide_input": true
   },
   "outputs": [
    {
     "ename": "LoadError",
     "evalue": "LoadError: UndefVarError: resonance_data_xls not defined\nwhile loading In[8], in expression starting on line 1",
     "output_type": "error",
     "traceback": [
      "LoadError: UndefVarError: resonance_data_xls not defined\nwhile loading In[8], in expression starting on line 1",
      ""
     ]
    }
   ],
   "source": [
    "x_data = convert(Array{Float64, 1}, resonance_data_xls[:, 1])\n",
    "y_data = convert(Array{Float64, 1}, resonance_data_xls[:, 2])\n",
    "y_weights = convert(Array{Float64, 1}, resonance_data_xls[:, 3]);"
   ]
  },
  {
   "cell_type": "code",
   "execution_count": null,
   "metadata": {
    "collapsed": false,
    "hide_input": false
   },
   "outputs": [],
   "source": []
  },
  {
   "cell_type": "markdown",
   "metadata": {},
   "source": [
    "Zur Bestimmung des Parameters gehört auch die Angabe eines Fehlers, den wir aus der Kovarianzmatrix erhalten:"
   ]
  },
  {
   "cell_type": "code",
   "execution_count": null,
   "metadata": {
    "collapsed": false,
    "hide_input": false
   },
   "outputs": [],
   "source": []
  }
 ],
 "metadata": {
  "kernelspec": {
   "display_name": "Julia 0.4.2",
   "language": "julia",
   "name": "julia-0.4"
  },
  "language_info": {
   "file_extension": ".jl",
   "mimetype": "application/julia",
   "name": "julia",
   "version": "0.4.2"
  }
 },
 "nbformat": 4,
 "nbformat_minor": 0
}
