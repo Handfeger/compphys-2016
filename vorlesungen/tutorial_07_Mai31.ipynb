{
 "cells": [
  {
   "cell_type": "markdown",
   "metadata": {},
   "source": [
    "<table style=\"width: 100%; border-style: none;\">\n",
    "<tr style=\"border-style: none\">\n",
    "<td style=\"border-style: none; width: 1%; font-size: 16px\">Institut f&uuml;r Theoretische Physik<br /> Universit&auml;t zu K&ouml;ln</td>\n",
    "<td style=\"border-style: none; width: 1%; font-size: 16px\">&nbsp;</td>\n",
    "<td style=\"border-style: none; width: 1%; text-align: right; font-size: 16px\">Prof. Dr. Simon Trebst<br />Peter Br&ouml;cker</td>\n",
    "</tr>\n",
    "</table>\n",
    "<hr>\n",
    "<h1 style=\"font-weight:bold; text-align: center; margin: 0px; padding:0px;\">Computerphysik</h1>\n",
    "<h1 style=\"font-weight:bold; text-align: center; margin: 0px; padding:0px;\">Vorlesung &mdash; Programmiertechniken 7</h1>\n",
    "<hr>\n",
    "<h3 style=\"font-weight:bold; text-align: center; margin: 0px; padding:0px; margin-bottom: 20px;\">Sommersemester 2016</h3>\n",
    "\n",
    "**Website:** [http://www.thp.uni-koeln.de/trebst/Lectures/2016-CompPhys.shtml](http://www.thp.uni-koeln.de/trebst/Lectures/2016-CompPhys.shtml)"
   ]
  },
  {
   "cell_type": "markdown",
   "metadata": {},
   "source": [
    "## 1. Wiederholung Pakete"
   ]
  },
  {
   "cell_type": "code",
   "execution_count": null,
   "metadata": {
    "collapsed": false
   },
   "outputs": [],
   "source": [
    "Pkg.update()"
   ]
  },
  {
   "cell_type": "code",
   "execution_count": null,
   "metadata": {
    "collapsed": false
   },
   "outputs": [],
   "source": [
    "Pkg.add(\"PyCall\")"
   ]
  },
  {
   "cell_type": "code",
   "execution_count": null,
   "metadata": {
    "collapsed": false
   },
   "outputs": [],
   "source": [
    "Pkg.add(\"PyPlot\")"
   ]
  },
  {
   "cell_type": "code",
   "execution_count": null,
   "metadata": {
    "collapsed": false
   },
   "outputs": [],
   "source": [
    "Pkg.add(\"Conda\")"
   ]
  },
  {
   "cell_type": "code",
   "execution_count": null,
   "metadata": {
    "collapsed": true
   },
   "outputs": [],
   "source": [
    "using Conda"
   ]
  },
  {
   "cell_type": "code",
   "execution_count": null,
   "metadata": {
    "collapsed": false
   },
   "outputs": [],
   "source": [
    "Conda.add(\"matplotlib\")"
   ]
  },
  {
   "cell_type": "markdown",
   "metadata": {},
   "source": [
    "## 2. Zeitaufgelöste Streuung an einem Potential"
   ]
  },
  {
   "cell_type": "code",
   "execution_count": 1,
   "metadata": {
    "collapsed": false
   },
   "outputs": [
    {
     "data": {
      "text/plain": [
       "true"
      ]
     },
     "execution_count": 1,
     "metadata": {},
     "output_type": "execute_result"
    }
   ],
   "source": [
    "# Einstellungen für das GUI\n",
    "ENV[\"PYTHON\"] = \"\"\n",
    "using PyCall\n",
    "pygui(:tk)\n",
    "using PyPlot\n",
    "pygui(true)"
   ]
  },
  {
   "cell_type": "code",
   "execution_count": 2,
   "metadata": {
    "collapsed": false
   },
   "outputs": [],
   "source": [
    "# Diskretisierungen\n",
    "# h_bar = m = 1.0\n",
    "\n",
    "dt = 0.01\n",
    "\n",
    "N = 2^11\n",
    "dx = 0.1\n",
    "xs = dx * (collect(1:N) - 0.5*N)\n",
    "\n",
    "dk = 2 * pi / (N*dx)\n",
    "ks = -0.5 * N * dk + dk * collect(1:N);"
   ]
  },
  {
   "cell_type": "code",
   "execution_count": 3,
   "metadata": {
    "collapsed": false
   },
   "outputs": [
    {
     "data": {
      "text/plain": [
       "set_potential (generic function with 1 method)"
      ]
     },
     "execution_count": 3,
     "metadata": {},
     "output_type": "execute_result"
    }
   ],
   "source": [
    "# Definition des Potential\n",
    "function set_potential(V0, V_width)\n",
    "    V = zeros(xs)\n",
    "    \n",
    "    return V\n",
    "end"
   ]
  },
  {
   "cell_type": "code",
   "execution_count": 4,
   "metadata": {
    "collapsed": false
   },
   "outputs": [
    {
     "data": {
      "text/plain": [
       "set_wavefunction (generic function with 1 method)"
      ]
     },
     "execution_count": 4,
     "metadata": {},
     "output_type": "execute_result"
    }
   ],
   "source": [
    "# Definition der Wellenfuntion\n",
    "function set_wavefunction(k0)\n",
    "    # Gaussian\n",
    "    sigma = 12.0 / k0\n",
    "    \n",
    "    # \"linkes\" Wellenpaket\n",
    "    x0 = -30\n",
    "    psi_x0 = (1./sqrt((sigma * sqrt(pi))) * exp(complex(-0.5*((xs - x0)/sigma).^2, xs * k0)))\n",
    "    \n",
    "    # \"rechtes\" Wellenpaket\n",
    "    x1 = +30\n",
    "    psi_x1 = (1./sqrt((sigma * sqrt(pi))) * exp(complex(-0.5*((xs - x1)/sigma).^2, -xs * k0)))\n",
    "    \n",
    "    return psi_x0 + psi_x1\n",
    "end"
   ]
  },
  {
   "cell_type": "code",
   "execution_count": 12,
   "metadata": {
    "collapsed": false
   },
   "outputs": [
    {
     "data": {
      "text/plain": [
       "scatter (generic function with 1 method)"
      ]
     },
     "execution_count": 12,
     "metadata": {},
     "output_type": "execute_result"
    }
   ],
   "source": [
    "# Hauptroutine\n",
    "function scatter(psi_x0, V)\n",
    "    # display\n",
    "    gcf()[:clf]()\n",
    "    gcf()[:set_facecolor](\"lightgray\")\n",
    "    axis(\"off\")\n",
    "    \n",
    "    # limits\n",
    "    ylim([-0.03,0.28])\n",
    "    xlim([-50,50])\n",
    "    \n",
    "    line_plot = plot(xs, zeros(xs), color=\"black\", linewidth=3)\n",
    "    V_plot    = plot(xs, V,         color=\"blue\", linewidth=1)\n",
    "    psi_plot  = plot(xs, psi_x0,    color=\"#850000\", linewidth=2)[1]\n",
    "    \n",
    "    # discrete Fourier transformation\n",
    "    psi_mod_x = psi_x0 .* exp(complex(0, -ks[1] .* xs)) * dx / (sqrt(2 * pi))\n",
    "\n",
    "    ### core iteration \n",
    "    step  = 1\n",
    "    while step < 2000 && (abs(psi_x0).^2)[1] < 0.001 && (abs(psi_x0).^2)[end] < 0.001\n",
    "        # update step\n",
    "        for j in 1:20\n",
    "            psi_mod_x .*= exp(complex(0, -.5 * V * dt))\n",
    "            psi_mod_k = fft(psi_mod_x)\n",
    "            psi_mod_k .*= exp(complex(0, -.5 * (ks .* ks) * dt))\n",
    "            psi_mod_x = ifft(psi_mod_k)\n",
    "            psi_mod_x .*= exp(complex(0, -.5 * V * dt))\n",
    "        end\n",
    "\n",
    "        # discrete Fourier transformation\n",
    "        psi_x0 = psi_mod_x .* exp(complex(0, ks[1] * xs)) * sqrt(2 * pi) / dx\n",
    "\n",
    "        # update plot \n",
    "        psi_plot[:set_data](xs, abs(psi_x0).^2)\n",
    "\n",
    "        # delay for plotting\n",
    "        sleep(0.001)\n",
    "        step += 1\n",
    "    end    \n",
    "end"
   ]
  },
  {
   "cell_type": "code",
   "execution_count": 13,
   "metadata": {
    "collapsed": false
   },
   "outputs": [],
   "source": [
    "k0 = 1.5\n",
    "V0 = 1\n",
    "V_width = 5\n",
    "\n",
    "V = set_potential(V0, V_width)\n",
    "psi_x0 = set_wavefunction(k0)\n",
    "\n",
    "scatter(psi_x0, V)"
   ]
  },
  {
   "cell_type": "code",
   "execution_count": null,
   "metadata": {
    "collapsed": true
   },
   "outputs": [],
   "source": []
  }
 ],
 "metadata": {
  "kernelspec": {
   "display_name": "Julia 0.4.2",
   "language": "julia",
   "name": "julia-0.4"
  },
  "language_info": {
   "file_extension": ".jl",
   "mimetype": "application/julia",
   "name": "julia",
   "version": "0.4.2"
  }
 },
 "nbformat": 4,
 "nbformat_minor": 0
}
