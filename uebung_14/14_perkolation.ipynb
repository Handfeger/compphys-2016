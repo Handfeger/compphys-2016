{
 "cells": [
  {
   "cell_type": "markdown",
   "metadata": {},
   "source": [
    "<table style=\"width: 100%; border-style: none;\">\n",
    "<tr style=\"border-style: none\">\n",
    "<td style=\"border-style: none; width: 1%; font-size: 16px\">Institut f&uuml;r Theoretische Physik<br /> Universit&auml;t zu K&ouml;ln</td>\n",
    "<td style=\"border-style: none; width: 1%; font-size: 16px\">&nbsp;</td>\n",
    "<td style=\"border-style: none; width: 1%; text-align: right; font-size: 16px\">Prof. Dr. Simon Trebst<br />Peter Br&ouml;cker</td>\n",
    "</tr>\n",
    "</table>\n",
    "<hr>\n",
    "<h1 style=\"font-weight:bold; text-align: center; margin: 0px; padding:0px;\">Computerphysik</h1>\n",
    "<h1 style=\"font-weight:bold; text-align: center; margin: 0px; padding:0px;\">&Uuml;bungsblatt 14</h1>\n",
    "<hr>\n",
    "<h3 style=\"font-weight:bold; text-align: center; margin: 0px; padding:0px; margin-bottom: 20px;\">Sommersemester 2016</h3>\n",
    "\n",
    "<p>**Website:** [http://www.thp.uni-koeln.de/trebst/Lectures/2016-CompPhys.shtml](http://www.thp.uni-koeln.de/trebst/Lectures/2016-CompPhys.shtml)</p>\n",
    "\n",
    "<p>**Name**: <font color=\"red\">Bitte geben Sie ihren Namen an</font></p>\n",
    "\n",
    "<p>**Matrikelnummer**: <font color=\"red\">Bitte geben Sie ihre Matrikelnummer an</font></p><br />\n",
    "\n",
    "\n",
    "<table style=\"border-style: none; width: 100%; margin-top: 20px; padding: 0px;\"\n",
    "><tr style=\"border-style: none; margin: 0px; padding: 0px;\">\n",
    "<td style=\"border-style: none; width: 80%; margin: 0px; padding: 0px; font-size: 20px; font-weight: bold\">Bonus-Aufgabe: Perkolation &mdash; eine l&ouml;chrige Angelegenheit</td>\n",
    "<td style=\"border-style: none; width: 20%; margin: 0px; padding: 0px; text-align: right\"></td></tr></table>\n",
    "\n"
   ]
  },
  {
   "cell_type": "markdown",
   "metadata": {},
   "source": [
    "Die **Perkolationstheorie** befasst sich mit dem Phänomen der **Clusterbildung**. Als Cluster werden in diesem Zusammenhang zusammenhängende Gebiete auf zufällig besetzten Gittern bezeichnet. Der Perkolationsübergang - von vielen kleinen nicht zusammenhängenden Clustern zu einem großen, das System spannende Cluster - ist\n",
    "dabei eine der einfachsten Inkarnationen eines **kontinuierlichen Phasenübergangs**.\n",
    "\n",
    "\n",
    "<img src=\"http://www.thp.uni-koeln.de/trebst/Lectures/CompPhys-2016/14_percolation_cluster.jpg\">\n",
    "\n",
    "\n",
    "In dieser Aufgabe wollen wir eben diesen Phasenübergang studieren. Nachdem wir ein mit einer gegebenen Wahrscheinlichkeit zufällig besetztes Gitter erzeugt haben, ist das zentrale Element dieser Untersuchung ein effizienter Algorithmus, der es erlaubt, die diversen Cluster in einer solchen zufälligen Konfiguration zu identifizieren. \n",
    "Dazu können wir auf einen in der Informatik wohl bekannten Algorithmus zurückgreifen, den **union-find** Algorithmus zur Berechnung der Äquivalenzklassen einer Menge. Die zugehörige Äquivalenzrelation ist dabei gegeben durch die Identifizierung zweier gleichbesetzter Gitterpositionen, die über einen Pfad von genau so besetzten Gitternpositionen verbunden sind. In der statistischen Physik firmiert dieser Algorithmus auch unter dem Namen **Hoshen-Kopelman** Algorithmus.\n",
    "\n",
    "Hier also das Perkolationsproblem im Detail: Man nehme ein Quadratgitter und besetze die Quadrate (Positionen) mit der Wahrscheinlichkeit $p$ mit einer 1 und mit der Wahrscheinlichkeit $1-p$ mit einer 0. Zusammenhängende Bereiche von 1en werden dann als Cluster bezeichnet. Deren Identifizierung anhand des Hoshen-Kopelman Algorithmus funktioniert wie folgt: Beginnend am oberen, linken Rand  scannen wir das Gitter zeilenweise von links oben nach rechts unten. Jeder Position ordnen wir bei diesem Scan ein Label zu, d.h. eine natürliche Zahl, welche den jeweiligen Cluster identifizieren soll. Besitzt eine (besetzte) Position noch kein Label, dann ordnen wir ihr ein neues, unbenutztes Label zu. Direkt benachbarte, besetzte Positionen erhalten das gleiche Label. Wichtig ist nun folgender Fall - wenn an eine besetzte Position zwei Cluster grenzen, die *nicht* das gleiche Label besitzen (überlegen Sie, wann dies auftreten kann), so entscheiden wir uns für das kleinere der beiden. In diesem Fall müssen wir zusätzlich abspeichern, dass es darüberhinaus eine Verbindung zwischen den beiden Clustern mit unterschiedlichen Labeln gibt. Dass sie unterschiedliche Label besitzen ist dabei nur ein Artefakt des Algorithmus; tatsächlich ist es natürlich der gleiche Cluster. Dieser Prozess lässt sich wie folgt darstellen:\n",
    "\n",
    "<img src=\"http://www.thp.uni-koeln.de/trebst/Lectures/CompPhys-2016/14_percolation.png\">\n",
    "\n",
    "Nachdem Sie einmal durch das Gitter gescannt haben und jeder besetzten Position ein Label zugeordnet haben, scannen Sie noch einmal und wenden die abgespeicherten Verbindungsinformation zwischen Clustern an, um die Nummerierung zu vervollständigen. Sie sehen, dass wir mit diesem Algorithmus für ein Gitter mit $N$ Positionen in $O(N)$ Schritten die Cluster identifizieren können.\n",
    "\n",
    "Ihre Aufgabe sei es nun, den obigen Hoshen-Kopelman Algorithmus zu implementieren.\n",
    "\n",
    "Interessante Messgrößen, die Sie studieren können, sind die Anzahl der gebildeten Cluster und die Wahrscheinlichkeit, dass sich ein so genannter perkolierender Cluster gebildet hat. Ein perkolierender Cluster erstreckt sich von links nach rechts oder von oben nach unten, also einmal quer durch das gesamte Gitter. \n",
    "\n",
    "Probieren Sie dabei selbst, wie gro das System wählen können, um in vertretbarer Zeit Resultate zu erhalten. \n",
    "Tragen Sie dann die eben genannten Messgrößen gegen die Wahrscheinlichkeit $p$ eine besetzte Position mit einer 1 zu initialisieren, auf. Vergleichen Sie die Plots mit denen des Ising-Modells - insbesondere die Wahrscheinlichkeit, einen perkolierenden Cluster zu finden, mit der Magnetisierung als Funktion der Temperatur im Ising-Modell.\n"
   ]
  },
  {
   "cell_type": "code",
   "execution_count": null,
   "metadata": {
    "collapsed": true
   },
   "outputs": [],
   "source": []
  }
 ],
 "metadata": {
  "kernelspec": {
   "display_name": "Julia 0.4.5",
   "language": "julia",
   "name": "julia-0.4"
  },
  "language_info": {
   "file_extension": ".jl",
   "mimetype": "application/julia",
   "name": "julia",
   "version": "0.4.5"
  }
 },
 "nbformat": 4,
 "nbformat_minor": 0
}
