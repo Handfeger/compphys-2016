{
 "cells": [
  {
   "cell_type": "markdown",
   "metadata": {},
   "source": [
    "<table style=\"width: 100%; border-style: none;\">\n",
    "<tr style=\"border-style: none\">\n",
    "<td style=\"border-style: none; width: 1%; font-size: 16px\">Institut f&uuml;r Theoretische Physik<br /> Universit&auml;t zu K&ouml;ln</td>\n",
    "<td style=\"border-style: none; width: 1%; font-size: 16px\">&nbsp;</td>\n",
    "<td style=\"border-style: none; width: 1%; text-align: right; font-size: 16px\">Prof. Dr. Simon Trebst<br />Peter Br&ouml;cker</td>\n",
    "</tr>\n",
    "</table>\n",
    "<hr>\n",
    "<h1 style=\"font-weight:bold; text-align: center; margin: 0px; padding:0px;\">Computerphysik</h1>\n",
    "<h1 style=\"font-weight:bold; text-align: center; margin: 0px; padding:0px;\">&Uuml;bungsblatt X</h1>\n",
    "<hr>\n",
    "<h3 style=\"font-weight:bold; text-align: center; margin: 0px; padding:0px; margin-bottom: 20px;\">Sommersemester 2016</h3>\n",
    "\n",
    "<p>**Website:** [http://www.thp.uni-koeln.de/trebst/Lectures/2016-CompPhys.shtml](http://www.thp.uni-koeln.de/trebst/Lectures/2016-CompPhys.shtml)</p>\n",
    "\n",
    "<p>**Abgabe**: Montag, 27.06, 2016 vor der Vorlesung</p>\n",
    "\n",
    "<p>**Name**: <font color=\"red\">Bitte geben Sie ihren Namen an</font></p>\n",
    "\n",
    "<p>**Matrikelnummer**: <font color=\"red\">Bitte geben Sie ihre Matrikelnummer an</font></p><br />\n",
    "\n",
    "\n",
    "<table style=\"border-style: none; width: 100%; margin-top: 20px; padding: 0px;\"\n",
    "><tr style=\"border-style: none; margin: 0px; padding: 0px;\">\n",
    "<td style=\"border-style: none; width: 80%; margin: 0px; padding: 0px; font-size: 20px; font-weight: bold\">Ordnung muss sein</td>\n",
    "<td style=\"border-style: none; width: 20%; margin: 0px; padding: 0px; text-align: right\">(5 Punkte)</td></tr></table>\n",
    "\n"
   ]
  },
  {
   "cell_type": "markdown",
   "metadata": {},
   "source": [
    "In dieser Aufgabe wollen wir die **Effizienz von Algorithmen** untersuchen. Dazu wollen wir verschiedene Algorithmen betrachten, eine Menge  natürlicher Zahlen der Größe nach zu sortieren.\n",
    "\n",
    "Als Eingabe werden wir Listen von zufällig erzeugten natürlichen Zahlen zwischen 1 und 100 verwenden:\n",
    "```\n",
    "numbers = rand(1:100, 50)\n",
    "```\n",
    "Kommentieren Sie den folgenden Ausschnitt Zeile für Zeile:"
   ]
  },
  {
   "cell_type": "code",
   "execution_count": 15,
   "metadata": {
    "collapsed": false
   },
   "outputs": [
    {
     "name": "stdout",
     "output_type": "stream",
     "text": [
      "1225\n",
      "[5,7,7,10,10,10,16,20,21,22,25,27,28,30,35,35,36,37,38,39,40,41,47,48,50,50,54,54,55,55,56,56,57,65,68,70,77,77,78,80,81,83,88,90,90,92,93,96,97,99]\n"
     ]
    }
   ],
   "source": [
    "function sort_1!(v)\n",
    "\n",
    "    n_elements = length(v)\n",
    "    n_steps = 0\n",
    "\n",
    "    for i = 1:n_elements - 1\n",
    "        min = i\n",
    "        for j = i + 1:n_elements\n",
    "            n_steps += 1\n",
    "           if (v[j] < v[min])\n",
    "                 min = j\n",
    "           end\n",
    "        end\n",
    "\n",
    "        v[i], v[min] = v[min], v[i]\n",
    "    end \n",
    "    return n_steps\n",
    "end \n",
    "\n",
    "len = 50\n",
    "numbers = rand(1:100, len)\n",
    "println(sort_1!(numbers))\n",
    "println(numbers)"
   ]
  },
  {
   "cell_type": "markdown",
   "metadata": {},
   "source": [
    "Der Code hat einen Zähler, der bestimmt, **wie viele Iterationsschritte** (Schleifendurchläufe) bis zur vollständigen Sortierung benötigt wurden.\n",
    " \n",
    "Ermitteln Sie die nötigen Iterationsschritte für Listen verschiedener Längen. Bestimmen Sie (auch mit Hilfe des Programmcodes) eine Formel, die die Anzahl der Durchläufe in Abhängigkeit von der Länge $n$ der eingegebenen Liste abschätzt. Reduzieren Sie den erhaltenen Term auf seine **führende Ordnung**. Sehen Sie, wie Sie diese führende Ordnung auf den ersten Blick aus dem Programmcode ableiten können?"
   ]
  },
  {
   "cell_type": "markdown",
   "metadata": {},
   "source": []
  },
  {
   "cell_type": "markdown",
   "metadata": {},
   "source": [
    "Die benötigte Laufzeit in Abhängigkeit der Länge der Eingabe nennt man die **Komplexität** eines\n",
    "Algorithmus. Jeder Algorithmus lässt sich in eine sogenannte Komplexitätsklasse einordnen, die mit z.B. $\\mathcal{O} (n^4)$ notiert wird (auch O-Notation genannt). \n",
    "\n",
    "Ermitteln Sie nun die Laufzeit als Funktion der Eingabelänge und stellen Sie diese Beziehung grafisch dar. Können Sie die zuvor ermittelte Komplexitätsklasse bestätigen?"
   ]
  },
  {
   "cell_type": "code",
   "execution_count": null,
   "metadata": {
    "collapsed": true
   },
   "outputs": [],
   "source": []
  },
  {
   "cell_type": "markdown",
   "metadata": {},
   "source": [
    "Betrachten Sie nun den untenstehenden Sortieralgorithmus und versuchen Sie nachzuvollziehen, wie dieser Algorithmus funktioniert. Überlegen Sie sich, warum er auch unter dem Namen **merge sort** bekannt ist."
   ]
  },
  {
   "cell_type": "code",
   "execution_count": 20,
   "metadata": {
    "collapsed": false
   },
   "outputs": [
    {
     "name": "stdout",
     "output_type": "stream",
     "text": [
      "[3,5,8,9,12,16,18,21,22,23,26,27,28,31,33,36,43,45,48,49,52,52,53,53,55,55,55,57,57,57,59,62,62,62,62,66,66,68,68,72,73,84,86,87,88,91,93,95,98,98]\n"
     ]
    }
   ],
   "source": [
    "function sort_2!(v)\n",
    "    if length(v) > 1\n",
    "        middle = Int(floor(length(v) / 2))\n",
    "        left = copy(v[1:middle])\n",
    "        right = copy(v[middle + 1:end])\n",
    "\n",
    "        sort_2(left)\n",
    "        sort_2(right)\n",
    "\n",
    "        i, j, k = 1, 1, 1\n",
    "    \n",
    "        while i <= length(left) && j <= length(right)\n",
    "            if left[i] < right[j]\n",
    "                v[k] = left[i]\n",
    "                i += 1\n",
    "            else\n",
    "                v[k] = right[j]\n",
    "                j += 1\n",
    "            end\n",
    "            k += 1\n",
    "        end\n",
    "\n",
    "        while i <= length(left)\n",
    "            v[k] = left[i]\n",
    "            i += 1\n",
    "            k += 1\n",
    "        end\n",
    "        \n",
    "        while j <= length(right)\n",
    "            v[k] = right[j]\n",
    "            j += 1\n",
    "            k += 1\n",
    "        end\n",
    "    end\n",
    "end\n",
    "\n",
    "len = 50\n",
    "numbers = collect(rand(1:100, len))\n",
    "sort_result = sort_2!(numbers)\n",
    "println(numbers)"
   ]
  },
  {
   "cell_type": "markdown",
   "metadata": {},
   "source": [
    "Stellen Sie nun auch für diesen Algorithmus die Geschwindigkeit grafisch dar. Auf Kosten wovon wurde bei diesem Algorithmus der **Geschwindigkeitsvorteil** erkauft? (Tipp: Auf welche Kennzahl achten Sie üblicherweise beim Laptop-/Computerkauf neben der Prozessorgeschwindigkeit?).\n"
   ]
  },
  {
   "cell_type": "code",
   "execution_count": null,
   "metadata": {
    "collapsed": true
   },
   "outputs": [],
   "source": []
  }
 ],
 "metadata": {
  "kernelspec": {
   "display_name": "Julia 0.4.5",
   "language": "julia",
   "name": "julia-0.4"
  },
  "language_info": {
   "file_extension": ".jl",
   "mimetype": "application/julia",
   "name": "julia",
   "version": "0.4.5"
  }
 },
 "nbformat": 4,
 "nbformat_minor": 0
}
