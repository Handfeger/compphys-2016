{
 "cells": [
  {
   "cell_type": "code",
   "execution_count": 8,
   "metadata": {
    "collapsed": false
   },
   "outputs": [
    {
     "data": {
      "text/plain": [
       "1x1 Array{Int64,2}:\n",
       " 1"
      ]
     },
     "execution_count": 8,
     "metadata": {},
     "output_type": "execute_result"
    }
   ],
   "source": [
    "v = [0; rand(10); 0]\n",
    "Ml = diagm(1)"
   ]
  },
  {
   "cell_type": "code",
   "execution_count": 6,
   "metadata": {
    "collapsed": false
   },
   "outputs": [
    {
     "name": "stdout",
     "output_type": "stream",
     "text": [
      "search: Tridiagonal SymTridiagonal StridedMatrix\n",
      "\n",
      "Couldn't find tridiag\n",
      "Perhaps you meant diag, blkdiag, isdiag or stride\n"
     ]
    },
    {
     "ename": "LoadError",
     "evalue": "LoadError: \"tridiag\" is not defined in module Main\nwhile loading In[6], in expression starting on line 119",
     "output_type": "error",
     "traceback": [
      "LoadError: \"tridiag\" is not defined in module Main\nwhile loading In[6], in expression starting on line 119",
      "",
      " in error at ./error.jl:21",
      " in which_module at ./reflection.jl:315",
      " in call at ./docs/bindings.jl:8"
     ]
    }
   ],
   "source": [
    "?tridiag"
   ]
  }
 ],
 "metadata": {
  "kernelspec": {
   "display_name": "Julia 0.4.6",
   "language": "julia",
   "name": "julia-0.4"
  },
  "language_info": {
   "file_extension": ".jl",
   "mimetype": "application/julia",
   "name": "julia",
   "version": "0.4.6"
  }
 },
 "nbformat": 4,
 "nbformat_minor": 0
}
