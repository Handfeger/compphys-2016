{
 "cells": [
  {
   "cell_type": "markdown",
   "metadata": {},
   "source": [
    "<table style=\"width: 100%; border-style: none;\">\n",
    "<tr style=\"border-style: none\">\n",
    "<td style=\"border-style: none; width: 1%; font-size: 16px\">Institut f&uuml;r Theoretische Physik<br /> Universit&auml;t zu K&ouml;ln</td>\n",
    "<td style=\"border-style: none; width: 1%; font-size: 16px\">&nbsp;</td>\n",
    "<td style=\"border-style: none; width: 1%; text-align: right; font-size: 16px\">Prof. Dr. Simon Trebst<br />Peter Br&ouml;cker</td>\n",
    "</tr>\n",
    "</table>\n",
    "<hr>\n",
    "<h1 style=\"font-weight:bold; text-align: center; margin: 0px; padding:0px;\">Computerphysik</h1>\n",
    "<h1 style=\"font-weight:bold; text-align: center; margin: 0px; padding:0px;\">&Uuml;bungsblatt 4</h1>\n",
    "<hr>\n",
    "<h3 style=\"font-weight:bold; text-align: center; margin: 0px; padding:0px; margin-bottom: 20px;\">Sommersemester 2016</h3>\n",
    "\n",
    "**Website:** [http://www.thp.uni-koeln.de/trebst/Lectures/2016-CompPhys.shtml](http://www.thp.uni-koeln.de/trebst/Lectures/2016-CompPhys.shtml)\n",
    "\n",
    "**Abgabe**: Montag, 9. Mai, 2016 vor der Vorlesung\n",
    "\n",
    "**Name**: <font color=\"red\">Bitte geben Sie ihren Namen an</font>\n",
    "\n",
    "**Matrikelnummer**: <font color=\"red\">Bitte geben Sie ihre Matrikelnummer an</font>"
   ]
  },
  {
   "cell_type": "markdown",
   "metadata": {},
   "source": [
    "<table style=\"border-style: none; width: 100%\"><tr style=\"border-style: none;\">\n",
    "<td style=\"border-style: none; width: 1%; font-size: 20px; font-weight: bold\">Cache-Effekte</td>\n",
    "<td style=\"border-style: none; width: 1%; text-align: right\">(5 Punkte)</td></tr></table>\n",
    "\n"
   ]
  },
  {
   "cell_type": "markdown",
   "metadata": {},
   "source": [
    "In der Vorlesung haben wir anhand einfacher physikalischer Überlegungen untersucht, wie schnell sich Informationen im Computer (maximal) ausbreiten können und was dies für die geometrische Anordnung etwa von CPU und Speicher bedeutet.\n",
    "Illustrieren Sie diese Überlegungen für einen CPU Chip von 3cm Kantenlänge: Wie hoch darf die Taktfrequenz einer solchen CPU höchstens sein, damit die beiden am weitesten voneinander entferntesten Punkte des Chips wähnend eines Taktes noch Informationen austauschen können, also Information von einem Punkt zum anderen und wieder zurück übertragen können? Be- denken Sie dabei, dass die Leiterbahnen auf einem CHIP nicht diagonal sondern in Manhattan- Form (rechtwinklig) verlegt sind."
   ]
  },
  {
   "cell_type": "markdown",
   "metadata": {},
   "source": [
    "(Bitte Antwort hier einfügen)"
   ]
  },
  {
   "cell_type": "markdown",
   "metadata": {},
   "source": [
    "Um diesen elementaren Flaschenhals zu vermeiden, werden in modernen Chips verschiedene Speicher-Ebenen (sogenannte Cache-Level) verbaut, die in unmittelbarer Nähe zu den Rechen-Cores auf dem Chip angesiedelt werden.\n",
    "In dieser Aufgabe wollen wir untersuchen, ob wir mit einem recht elementaren Programm diese Speicherstruktur sichtbar machen können. \n",
    "\n",
    "Untersuchen Sie dazu den folgenden von uns verlinkten C++ code. Lesen Sie diesen detailliert kommentierten Quellcode, welchen Sie allein mit Ihren Julia-Kenntnissen verstehen können sollten, und beschreiben Sie in Worten den Ablauf des Programms. Skizzieren Sie dazu – ähnlich zu der in der Vorlesung verwandten Notation – einen Flussablauf des Programms."
   ]
  },
  {
   "cell_type": "markdown",
   "metadata": {
    "collapsed": false
   },
   "source": [
    "```c\n",
    "// Einbinden von Bibliotheken aehnlich zu \"using\" oder \"import\" in Julia\n",
    "#include <iostream>\n",
    "#include <sys/time.h>\n",
    "#include <math.h>\n",
    "\n",
    "// das Hauptprogramm\n",
    "int main() {\n",
    "\n",
    "    // Anzahl der Datenpunkte\n",
    "    int steps = 18;\n",
    "\n",
    "    for (int i = 0; i < steps; ++i) {\n",
    "        // Groesse des Arrays\n",
    "        int kbytes = int(pow(2., double(i)));\n",
    "        int array_size = kbytes * 1024;\n",
    "\n",
    "        // Array initialisieren, aequivalent zu zeros(array_size)\n",
    "        unsigned int * array = new unsigned int[array_size];\n",
    "        for (int j  = 0; j < array_size; ++j) array[j] = 0;\n",
    "\n",
    "        // Messung starten\n",
    "        clock_t start = clock();\n",
    "\n",
    "        // Eigentlich eine Schleife, muss aus praktischen Gruenden\n",
    "        // aufgeteilt werden\n",
    "        for (int k = 0; k < (1024 * 4 - 1); ++k)\n",
    "            for(int j = 0; j < 1024 * 1024; ++j)\n",
    "                ++array[(j * 16) % array_size];\n",
    "                \n",
    "        // Messung stoppen\n",
    "        clock_t elapsed = clock() - start;\n",
    "\n",
    "        // Array loeschen, geschieht in Julia automatisch\n",
    "        delete [] array;\n",
    "\n",
    "        // Daten ausgeben\n",
    "        std::cout << kbytes << \" \" << elapsed << std::endl;\n",
    "    }\n",
    "}\n",
    "```"
   ]
  },
  {
   "cell_type": "markdown",
   "metadata": {},
   "source": [
    "Dieses Programm finden Sie außerdem in Ihrem git Verzeichnis. Mit dem Ausführen der nächsten Zeile wird ein Skript gestartet, mit dem dieses Programm kompiliert und gestartet wird. Dieser Prozess wird ca. 10 Minuten dauern und hängt auch davon ab, wie ausgelastet der JuliaBox-Server ist. "
   ]
  },
  {
   "cell_type": "code",
   "execution_count": null,
   "metadata": {
    "collapsed": false
   },
   "outputs": [],
   "source": [
    "run(`chmod +x ./04_cache_effekte.sh`)\n",
    "run(`./04_cache_effekte.sh`)"
   ]
  },
  {
   "cell_type": "markdown",
   "metadata": {},
   "source": [
    "Wir nutzen nun das Paket *DataFrames*, um die Ausgabe des Programms zu verarbeiten und grafisch darzustellen. "
   ]
  },
  {
   "cell_type": "code",
   "execution_count": null,
   "metadata": {
    "collapsed": false
   },
   "outputs": [],
   "source": [
    "Pkg.add(\"DataFrames\")\n",
    "using DataFrames\n",
    "using PyPlot\n",
    "\n",
    "figure(figsize=(12, 5))\n",
    "data = readtable(\"04_cache_effekte.csv\", separator=' ', header=false)\n",
    "x_values = [Int(2^x) for x in log2(data[:, 1])]\n",
    "plot(x_values, data[:, 2])\n",
    "gca()[:set_xscale](\"log\", basex=2)\n",
    "xticks(x_values[1:2:end], [string(x) for x in x_values][1:2:end])\n",
    "xlabel(\"Array / kB\")\n",
    "ylabel(\"Bearbeitungsdauer\")"
   ]
  },
  {
   "cell_type": "markdown",
   "metadata": {},
   "source": [
    "Erklären Sie den Verlauf der Kurve. Schätzen Sie die Größen der einzelnen Cachelevel ab."
   ]
  },
  {
   "cell_type": "code",
   "execution_count": null,
   "metadata": {
    "collapsed": true
   },
   "outputs": [],
   "source": []
  }
 ],
 "metadata": {
  "kernelspec": {
   "display_name": "Julia 0.4.2",
   "language": "julia",
   "name": "julia-0.4"
  },
  "language_info": {
   "file_extension": ".jl",
   "mimetype": "application/julia",
   "name": "julia",
   "version": "0.4.2"
  }
 },
 "nbformat": 4,
 "nbformat_minor": 0
}
