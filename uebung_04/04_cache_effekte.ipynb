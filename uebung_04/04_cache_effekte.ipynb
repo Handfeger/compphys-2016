{
 "cells": [
  {
   "cell_type": "markdown",
   "metadata": {},
   "source": [
    "<table style=\"width: 100%; border-style: none;\">\n",
    "<tr style=\"border-style: none\">\n",
    "<td style=\"border-style: none; width: 1%; font-size: 16px\">Institut f&uuml;r Theoretische Physik<br /> Universit&auml;t zu K&ouml;ln</td>\n",
    "<td style=\"border-style: none; width: 1%; font-size: 16px\">&nbsp;</td>\n",
    "<td style=\"border-style: none; width: 1%; text-align: right; font-size: 16px\">Prof. Dr. Simon Trebst<br />Peter Br&ouml;cker</td>\n",
    "</tr>\n",
    "</table>\n",
    "<hr>\n",
    "<h1 style=\"font-weight:bold; text-align: center; margin: 0px; padding:0px;\">Computerphysik</h1>\n",
    "<h1 style=\"font-weight:bold; text-align: center; margin: 0px; padding:0px;\">&Uuml;bungsblatt 4</h1>\n",
    "<hr>\n",
    "<h3 style=\"font-weight:bold; text-align: center; margin: 0px; padding:0px; margin-bottom: 20px;\">Sommersemester 2016</h3>\n",
    "\n",
    "**Website:** [http://www.thp.uni-koeln.de/trebst/Lectures/2016-CompPhys.shtml](http://www.thp.uni-koeln.de/trebst/Lectures/2016-CompPhys.shtml)\n",
    "\n",
    "**Abgabe**: Montag, 9. Mai, 2016 vor der Vorlesung\n",
    "\n",
    "**Name**: <font color=\"red\">Michel Vielmetter</font>\n",
    "\n",
    "**Matrikelnummer**: <font color=\"red\">5920493</font>"
   ]
  },
  {
   "cell_type": "markdown",
   "metadata": {},
   "source": [
    "<table style=\"border-style: none; width: 100%\"><tr style=\"border-style: none;\">\n",
    "<td style=\"border-style: none; width: 1%; font-size: 20px; font-weight: bold\">Cache-Effekte</td>\n",
    "<td style=\"border-style: none; width: 1%; text-align: right\">(5 Punkte)</td></tr></table>\n",
    "\n"
   ]
  },
  {
   "cell_type": "markdown",
   "metadata": {},
   "source": [
    "In der Vorlesung haben wir anhand einfacher physikalischer Überlegungen untersucht, wie schnell sich Informationen im Computer (maximal) ausbreiten können und was dies für die geometrische Anordnung etwa von CPU und Speicher bedeutet.\n",
    "Illustrieren Sie diese Überlegungen für einen CPU Chip von 3cm Kantenlänge: Wie hoch darf die Taktfrequenz einer solchen CPU höchstens sein, damit die beiden am weitesten voneinander entferntesten Punkte des Chips wähnend eines Taktes noch Informationen austauschen können, also Information von einem Punkt zum anderen und wieder zurück übertragen können? Be- denken Sie dabei, dass die Leiterbahnen auf einem CHIP nicht diagonal sondern in Manhattan- Form (rechtwinklig) verlegt sind."
   ]
  },
  {
   "cell_type": "markdown",
   "metadata": {},
   "source": [
    "$d = 2*(3cm+3cm)=12 cm$ Doppelter Weg in einem Takt\n",
    "\n",
    "$c/d = (3*10^8) / (12 * 10^{-2}) = 2,5*10^9$ Max Taktrate: `2,5 GB`"
   ]
  },
  {
   "cell_type": "markdown",
   "metadata": {},
   "source": [
    "Um diesen elementaren Flaschenhals zu vermeiden, werden in modernen Chips verschiedene Speicher-Ebenen (sogenannte Cache-Level) verbaut, die in unmittelbarer Nähe zu den Rechen-Cores auf dem Chip angesiedelt werden.\n",
    "In dieser Aufgabe wollen wir untersuchen, ob wir mit einem recht elementaren Programm diese Speicherstruktur sichtbar machen können. \n",
    "\n",
    "Untersuchen Sie dazu den folgenden von uns verlinkten C++ code. Lesen Sie diesen detailliert kommentierten Quellcode, welchen Sie allein mit Ihren Julia-Kenntnissen verstehen können sollten, und beschreiben Sie in Worten den Ablauf des Programms. Skizzieren Sie dazu – ähnlich zu der in der Vorlesung verwandten Notation – einen Flussablauf des Programms."
   ]
  },
  {
   "cell_type": "markdown",
   "metadata": {
    "collapsed": false
   },
   "source": [
    "```c\n",
    "// Einbinden von Bibliotheken aehnlich zu \"using\" oder \"import\" in Julia\n",
    "#include <iostream>\n",
    "#include <sys/time.h>\n",
    "#include <math.h>\n",
    "\n",
    "// das Hauptprogramm\n",
    "int main() {\n",
    "\n",
    "    // Anzahl der Datenpunkte\n",
    "    int steps = 18;\n",
    "\n",
    "    for (int i = 0; i < steps; ++i) {\n",
    "        // Groesse des Arrays\n",
    "        int kbytes = int(pow(2., double(i)));\n",
    "        int array_size = kbytes * 1024;\n",
    "\n",
    "        // Array initialisieren, aequivalent zu zeros(array_size)\n",
    "        unsigned int * array = new unsigned int[array_size];\n",
    "        for (int j  = 0; j < array_size; ++j) array[j] = 0;\n",
    "\n",
    "        // Messung starten\n",
    "        clock_t start = clock();\n",
    "\n",
    "        // Eigentlich eine Schleife, muss aus praktischen Gruenden\n",
    "        // aufgeteilt werden\n",
    "        for (int k = 0; k < (1024 * 4 - 1); ++k)\n",
    "            for(int j = 0; j < 1024 * 1024; ++j)\n",
    "                ++array[(j * 16) % array_size];\n",
    "                \n",
    "        // Messung stoppen\n",
    "        clock_t elapsed = clock() - start;\n",
    "\n",
    "        // Array loeschen, geschieht in Julia automatisch\n",
    "        delete [] array;\n",
    "\n",
    "        // Daten ausgeben\n",
    "        std::cout << kbytes << \" \" << elapsed << std::endl;\n",
    "    }\n",
    "}\n",
    "```\n",
    "\n",
    "### Beschreibung ###\n",
    "- wir fuehren das Programm fuer `1kb 2kb 4kb 8kb` usw... bis $2^{17}$`kb` aus und initialisieren ein array mit dieser groesse.\n",
    "- nun speichern wir die CPU-Zeit\n",
    "- da ein int 4 Byte hat incrementieren wir alle 16 eintraege im array. Hierfuer muessen wir fuer jede Operation das array aus dem cache laden. Fuer bestimmte Array greossen dauert koennen verschiedene Caches genutzt werden.\n",
    "- nun messen wir die Zeit fuer jede verschiedene arraygroesse und geben diese im csv format an cout"
   ]
  },
  {
   "cell_type": "markdown",
   "metadata": {},
   "source": [
    "Dieses Programm finden Sie außerdem in Ihrem git Verzeichnis. Mit dem Ausführen der nächsten Zeile wird ein Skript gestartet, mit dem dieses Programm kompiliert und gestartet wird. Dieser Prozess wird ca. 10 Minuten dauern und hängt auch davon ab, wie ausgelastet der JuliaBox-Server ist. "
   ]
  },
  {
   "cell_type": "code",
   "execution_count": null,
   "metadata": {
    "collapsed": false
   },
   "outputs": [],
   "source": [
    "run(`chmod +x ./04_cache_effekte.sh`)\n",
    "run(`./04_cache_effekte.sh`)"
   ]
  },
  {
   "cell_type": "markdown",
   "metadata": {},
   "source": [
    "Wir nutzen nun das Paket *DataFrames*, um die Ausgabe des Programms zu verarbeiten und grafisch darzustellen. "
   ]
  },
  {
   "cell_type": "code",
   "execution_count": 1,
   "metadata": {
    "collapsed": false
   },
   "outputs": [
    {
     "name": "stderr",
     "output_type": "stream",
     "text": [
      "INFO: Cloning cache of ArrayViews from git://github.com/JuliaLang/ArrayViews.jl.git\n",
      "INFO: Cloning cache of DataArrays from git://github.com/JuliaStats/DataArrays.jl.git\n",
      "INFO: Cloning cache of DataFrames from git://github.com/JuliaStats/DataFrames.jl.git\n",
      "INFO: Cloning cache of Docile from git://github.com/MichaelHatherly/Docile.jl.git\n",
      "INFO: Cloning cache of GZip from git://github.com/JuliaLang/GZip.jl.git\n",
      "INFO: Cloning cache of SortingAlgorithms from git://github.com/JuliaLang/SortingAlgorithms.jl.git\n",
      "INFO: Cloning cache of StatsBase from git://github.com/JuliaStats/StatsBase.jl.git\n",
      "INFO: Cloning cache of StatsFuns from git://github.com/JuliaStats/StatsFuns.jl.git\n",
      "INFO: Installing ArrayViews v0.6.4\n",
      "INFO: Installing DataArrays v0.2.20\n",
      "INFO: Installing DataFrames v0.7.0\n",
      "INFO: Installing Docile v0.5.23\n",
      "INFO: Installing GZip v0.2.18\n",
      "INFO: Installing SortingAlgorithms v0.0.6\n",
      "INFO: Installing StatsBase v0.8.0\n",
      "INFO: Installing StatsFuns v0.2.0\n",
      "INFO: Package database updated\n",
      "INFO: METADATA is out-of-date — you may not have the latest version of DataFrames\n",
      "INFO: Use `Pkg.update()` to get the latest versions of your packages\n",
      "INFO: Precompiling module DataFrames...\n"
     ]
    },
    {
     "data": {
      "image/png": "[encoded data removed]",
      "text/plain": [
       "PyPlot.Figure(PyObject <matplotlib.figure.Figure object at 0x7f66d694bfd0>)"
      ]
     },
     "metadata": {},
     "output_type": "display_data"
    },
    {
     "data": {
      "text/plain": [
       "PyObject <matplotlib.text.Text object at 0x7f66cc7286d0>"
      ]
     },
     "execution_count": 1,
     "metadata": {},
     "output_type": "execute_result"
    }
   ],
   "source": [
    "Pkg.add(\"DataFrames\")\n",
    "using DataFrames\n",
    "using PyPlot\n",
    "\n",
    "figure(figsize=(12, 5))\n",
    "data = readtable(\"04_cache_effekte.csv\", separator=' ', header=false)\n",
    "x_values = [Int(2^x) for x in log2(data[:, 1])]\n",
    "plot(x_values, data[:, 2])\n",
    "gca()[:set_xscale](\"log\", basex=2)\n",
    "xticks(x_values[1:2:end], [string(x) for x in x_values][1:2:end])\n",
    "xlabel(\"Array / kB\")\n",
    "ylabel(\"Bearbeitungsdauer\")"
   ]
  },
  {
   "cell_type": "markdown",
   "metadata": {},
   "source": [
    "Erklären Sie den Verlauf der Kurve. Schätzen Sie die Größen der einzelnen Cachelevel ab."
   ]
  },
  {
   "cell_type": "markdown",
   "metadata": {
    "collapsed": true
   },
   "source": [
    "## Erklaerung ##\n",
    "fuer jedes array das nicht mehr in den nachsten Cache passt, muss ein Cache weiter entfernt genutzt werden. Hierbei brauchen die Daten laenger fuer ihren Weg, wodurch die Dauer in die hoehe schnellt. Da im Code immer gleich oft Iteriert wird, ist dies nicht von der Taktzeit abhaengig, sondern rein von der Datenuebertragung.\n",
    "\n",
    "## Moegliche Cachesizes ##\n",
    "Level 1: `8KB`\n",
    "\n",
    "Level 2: `64KB`\n",
    "\n",
    "Level 3: `4MB`\n"
   ]
  }
 ],
 "metadata": {
  "kernelspec": {
   "display_name": "Julia 0.4.5",
   "language": "julia",
   "name": "julia-0.4"
  },
  "language_info": {
   "file_extension": ".jl",
   "mimetype": "application/julia",
   "name": "julia",
   "version": "0.4.5"
  }
 },
 "nbformat": 4,
 "nbformat_minor": 0
}
