{
 "cells": [
  {
   "cell_type": "markdown",
   "metadata": {},
   "source": [
    "<table style=\"width: 100%; border-style: none;\">\n",
    "<tr style=\"border-style: none\">\n",
    "<td style=\"border-style: none; width: 1%; font-size: 16px\">Institut f&uuml;r Theoretische Physik<br /> Universit&auml;t zu K&ouml;ln</td>\n",
    "<td style=\"border-style: none; width: 1%; font-size: 16px\">&nbsp;</td>\n",
    "<td style=\"border-style: none; width: 1%; text-align: right; font-size: 16px\">Prof. Dr. Simon Trebst<br />Peter Br&ouml;cker</td>\n",
    "</tr>\n",
    "</table>\n",
    "<hr>\n",
    "<h1 style=\"font-weight:bold; text-align: center; margin: 0px; padding:0px;\">Computerphysik</h1>\n",
    "<h1 style=\"font-weight:bold; text-align: center; margin: 0px; padding:0px;\">&Uuml;bungsblatt 2</h1>\n",
    "<hr>\n",
    "<h3 style=\"font-weight:bold; text-align: center; margin: 0px; padding:0px; margin-bottom: 20px;\">Sommersemester 2016</h3>\n",
    "\n",
    "**Website:** [http://www.thp.uni-koeln.de/trebst/Lectures/2016-CompPhys.shtml](http://www.thp.uni-koeln.de/trebst/Lectures/2016-CompPhys.shtml)\n",
    "\n",
    "**Abgabe**: Montag, 25. April, 2016 vor der Vorlesung\n",
    "\n",
    "**Name**: <font color=\"red\">Michel Vielmetter</font>\n",
    "\n",
    "**Matrikelnummer**: <font color=\"red\">5920493</font>"
   ]
  },
  {
   "cell_type": "markdown",
   "metadata": {},
   "source": [
    "<table style=\"border-style: none; width: 100%\"><tr style=\"border-style: none;\">\n",
    "<td style=\"border-style: none; width: 1%; font-size: 20px; font-weight: bold\">Divide and Conquer</td>\n",
    "<td style=\"border-style: none; width: 1%; text-align: right\">(4 Punkte)</td></tr></table>\n",
    "\n",
    "Eine häufig wiederkehrende Aufgabe ist die Bestimmung von Nullstellen einer beliebigen\n",
    "Funktion. Um dies zu tun, haben Sie in der Vorlesung einige iterative Verfahren kennengelernt,\n",
    "die wir im Rahmen dieser Übung implementieren und vergleichen wollen. Die beiden hier behandelten Methoden zählen zum Bereich der *divide and conquer* Algorithmen, in denen wir ein Problem so lange in kleine Probleme zerlegen, bis sie irgendwann als lösbar gelten.\n",
    "\n",
    "Als erste Methode soll eine **grid search** implementiert werden. Dazu wird ein Stück des Definitionsbereich um die Nullstelle herum in kleinere Bereiche unterteilt. Als nächstes wird der Bereich identifiziert, in dem die Nullstelle liegt und dieser wieder unterteilt. Wenn die gewünschte Präzision erreicht ist, wird das Verfahren abgebrochen.\n",
    "\n",
    "Alternativ dazu kann ein Verfahren angewendet werden, das Sie bereits in der Mathematik als Intervallschachtelung kennengelernt haben und auch als **binary search** bekannt ist. Nachdem zwei Endpunkte gewählt wurden, wird der Bereich so halbiert, dass die Nullstelle wieder im Bereich liegt. Wie zuvor wird auch dieser Vorgang dann abgebrochen, wenn die gewünschte Genauigkeit erreicht ist.\n",
    "\n",
    "In dieser und der nächsten Aufgabe soll eine Funktion untersucht werden, die Sie in der Quantenmechanik kennenlernen werden oder bereits kennengelernt haben. Bei der Lösung des Problems eines Teilchens in einem endlichen Potentialtopf trifft man auf die Gleichung\n",
    "\n",
    "$\\quad k\\tan(ka) - \\kappa = 0$\n",
    "\n",
    "in der wir nun $a, \\kappa = 1$ setzen:"
   ]
  },
  {
   "cell_type": "code",
   "execution_count": 3,
   "metadata": {
    "collapsed": false,
    "scrolled": true
   },
   "outputs": [
    {
     "data": {
      "text/plain": [
       "f (generic function with 1 method)"
      ]
     },
     "execution_count": 3,
     "metadata": {},
     "output_type": "execute_result"
    }
   ],
   "source": [
    "f(k) = k * tan(k) - 1"
   ]
  },
  {
   "cell_type": "markdown",
   "metadata": {},
   "source": [
    "### Grid Search\n",
    "\n",
    "Als erste Methode sollen Sie den untenstehenden Code zu einer Funktion ausbauen, die eine *grid search* durchführt:"
   ]
  },
  {
   "cell_type": "code",
   "execution_count": 4,
   "metadata": {
    "collapsed": false
   },
   "outputs": [
    {
     "data": {
      "text/plain": [
       "grid_search (generic function with 1 method)"
      ]
     },
     "execution_count": 4,
     "metadata": {},
     "output_type": "execute_result"
    }
   ],
   "source": [
    "function grid_search(f, x_left, x_right, n_grid_points, precision)\n",
    "    iterations = 100 # how many tries for better precision before giving up\n",
    "    grid = linspace(x_left, x_right, n_grid_points) # grid on x-axes\n",
    "    f_sign = sign(f(grid[1]))\n",
    "    \n",
    "    # varinit\n",
    "    x0 = 0\n",
    "    f_left = 0\n",
    "    f_right = 0\n",
    "        \n",
    "    for i in 1:iterations\n",
    "        # check each pair of neighboring points on grid\n",
    "        # for sign change, indicating the presence of a zero in between\n",
    "        for j in 1:n_grid_points - 1 \n",
    "            new_sign = sign(f(grid[j]))\n",
    "            \n",
    "            # check for sign_switch\n",
    "            if new_sign != f_sign\n",
    "                f_left = f(grid[j-1])\n",
    "                f_right = f(grid[j])\n",
    "                \n",
    "                # lets be lucky\n",
    "                if new_sign == 0\n",
    "                    x0 = grid[j]\n",
    "                    f_left = f_right\n",
    "                    \n",
    "                    # or not...\n",
    "                else\n",
    "                    x_left = grid[j-1]\n",
    "                    x_right = grid[j]\n",
    "                    x0 = grid[j-1]+(grid[j]-grid[j-1])/2\n",
    "                end\n",
    "                break\n",
    "            end\n",
    "            f_sign = new_sign\n",
    "        end\n",
    "        \n",
    "        # when sign was 0 f_right should be \n",
    "        # precision on x_axis\n",
    "        if max(abs(f_left), abs(f_right)) < precision\n",
    "            return (x0, i)\n",
    "        end\n",
    "        \n",
    "        # set new grid\n",
    "        grid = linspace(x_left, x_right, n_grid_points)\n",
    "    end\n",
    "    \n",
    "    return (x0, iterations)\n",
    "end"
   ]
  },
  {
   "cell_type": "markdown",
   "metadata": {},
   "source": [
    "Mit den folgenden Parametern ausgeführt, sollte die Ausgabe der Funktion $x_0 = 3.425$ sein."
   ]
  },
  {
   "cell_type": "code",
   "execution_count": 5,
   "metadata": {
    "collapsed": false
   },
   "outputs": [
    {
     "data": {
      "text/plain": [
       "(3.425619834710744,2)"
      ]
     },
     "execution_count": 5,
     "metadata": {},
     "output_type": "execute_result"
    }
   ],
   "source": [
    "grid_search(f, 2, 5, 100, 1e-3)"
   ]
  },
  {
   "cell_type": "markdown",
   "metadata": {},
   "source": [
    "### Binary Search\n",
    "\n",
    "Vervollständigen Sie nun auch das folgende Skelett, um die Nullstelle mittels *binary search* zu finden"
   ]
  },
  {
   "cell_type": "code",
   "execution_count": 6,
   "metadata": {
    "collapsed": false
   },
   "outputs": [
    {
     "data": {
      "text/plain": [
       "binary_search (generic function with 1 method)"
      ]
     },
     "execution_count": 6,
     "metadata": {},
     "output_type": "execute_result"
    }
   ],
   "source": [
    "function binary_search(f, x_left, x_right, precision)\n",
    "    iterations = 100\n",
    "    f_sign = sign(f(x_left))\n",
    "    half_way(x,y) = x+(y-x)/2\n",
    "    \n",
    "    for i in 1:iterations\n",
    "        half = half_way(x_left, x_right)\n",
    "        new_sign = sign(f(half))\n",
    "        if new_sign == 0\n",
    "            return (half, i)\n",
    "        end\n",
    "        \n",
    "        if f_sign == new_sign\n",
    "            x_left = half\n",
    "        else\n",
    "            x_right = half\n",
    "        end\n",
    "        \n",
    "        if max(abs(f(x_left)), abs(f(x_right))) < precision\n",
    "            return (half_way(x_left, x_right), i)\n",
    "        end\n",
    "    end\n",
    "    \n",
    "    return (half_way(x_left, x_right), 1)\n",
    "end"
   ]
  },
  {
   "cell_type": "code",
   "execution_count": 7,
   "metadata": {
    "collapsed": false
   },
   "outputs": [
    {
     "name": "stdout",
     "output_type": "stream",
     "text": [
      "2, "
     ]
    },
    {
     "data": {
      "text/plain": [
       "(3.425567626953125,14)"
      ]
     },
     "execution_count": 7,
     "metadata": {},
     "output_type": "execute_result"
    }
   ],
   "source": [
    "binary_search(f, 2, 5, 1e-3)"
   ]
  }
 ],
 "metadata": {
  "kernelspec": {
   "display_name": "Julia 0.4.5",
   "language": "julia",
   "name": "julia-0.4"
  },
  "language_info": {
   "file_extension": ".jl",
   "mimetype": "application/julia",
   "name": "julia",
   "version": "0.4.5"
  }
 },
 "nbformat": 4,
 "nbformat_minor": 0
}
