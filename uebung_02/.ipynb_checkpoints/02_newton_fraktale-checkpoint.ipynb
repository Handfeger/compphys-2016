{
 "cells": [
  {
   "cell_type": "markdown",
   "metadata": {},
   "source": [
    "<table style=\"width: 100%; border-style: none;\">\n",
    "<tr style=\"border-style: none\">\n",
    "<td style=\"border-style: none; width: 1%; font-size: 16px\">Institut f&uuml;r Theoretische Physik<br /> Universit&auml;t zu K&ouml;ln</td>\n",
    "<td style=\"border-style: none; width: 1%; font-size: 16px\">&nbsp;</td>\n",
    "<td style=\"border-style: none; width: 1%; text-align: right; font-size: 16px\">Prof. Dr. Simon Trebst<br />Peter Br&ouml;cker</td>\n",
    "</tr>\n",
    "</table>\n",
    "<hr>\n",
    "<h1 style=\"font-weight:bold; text-align: center; margin: 0px; padding:0px;\">Computerphysik</h1>\n",
    "<h1 style=\"font-weight:bold; text-align: center; margin: 0px; padding:0px;\">&Uuml;bungsblatt 2</h1>\n",
    "<hr>\n",
    "<h3 style=\"font-weight:bold; text-align: center; margin: 0px; padding:0px; margin-bottom: 20px;\">Sommersemester 2016</h3>\n",
    "\n",
    "**Website:** [http://www.thp.uni-koeln.de/trebst/Lectures/2016-CompPhys.shtml](http://www.thp.uni-koeln.de/trebst/Lectures/2016-CompPhys.shtml)\n",
    "\n",
    "**Abgabe**: Montag, 25. April, 2016 vor der Vorlesung\n",
    "\n",
    "**Name**: <font color=\"red\">Bitte geben Sie ihren Namen an</font>\n",
    "\n",
    "**Matrikelnummer**: <font color=\"red\">Bitte geben Sie ihre Matrikelnummer an</font>"
   ]
  },
  {
   "cell_type": "markdown",
   "metadata": {},
   "source": [
    "<table style=\"border-style: none; width: 100%\"><tr style=\"border-style: none;\">\n",
    "<td style=\"border-style: none; width: 1%; font-size: 20px; font-weight: bold\">Newton Fraktal</td>\n",
    "<td style=\"border-style: none; width: 1%; text-align: right\">(2 Punkte)</td></tr></table>\n",
    "\n",
    "Das Newtonverfahren lässt sich problemlos auch auf **komplexe Funktionen** erweitern, die eine vielfältige Struktur an Nullstellen aufweisen können. Insbesondere kann es Punkte geben, an denen der Algorithmus nicht konvergiert, ganz gleich wie die Parameter gewählt werden.\n",
    "\n",
    "Für diese Aufgabe betrachten wir konkret die Funktion $f(z) = \\cos{(z)} z^4 − 1$ auf der komplexen Menge $[−2, 2] \\times [−2i, 2i]$. Das Ergebnis des Newtonverfahrens auf dieser Menge lässt sich sehr schön visualisieren. Dazu speichern wir für jeden Startpunkt aus der obigen Menge die Anzahl an Iterationschritten, die wir benötigen um mit vorgegebener Genauigkeit ε an 0 heranszukom- men. Das bedeutet, wir diskretisieren die Menge, beginnen einen Newtonlauf an jedem der Punkte z0 und prüfen, ob nach dem i-ten Schritt $|f (z_i)| < \\epsilon$ erfüllt ist. Falls dem so ist, speichern wir den Wert i und beginnen am nächsten Punkt von vorn. So erhalten wir für jeden Punkt der diskretisierten Menge einen Wert.\n",
    "\n",
    "Zu guter Letzt müssen Sie diese Matrix nur noch visualisieren. Dies können Sie, wie schon im Tutorial erklärt, mit der Funktion *imshow* erledigen. Als guter Satz von Parametern hat sich eine Matrixgröße von 720 × 720, eine Maximalanzahl von 200 Iterationen pro Punkt, ein Diskretisierungsschritt der Ableitung von dh = 1e − 6 sowie einer Präzision ε = 1e − 10 herausgestellt. Gut bedeutet in diesem Fall, dass das Bild auf einem durchschnittlichen Computer innerhalb von fünf Minuten fertig berechnet sein sollte. Um ihren Algorithmus zu testen können Sie aber zunächst auch mit kleinerer Auflösung rechnen und dann erst am Ende ein höher aufgelöstes Bild generieren."
   ]
  },
  {
   "cell_type": "code",
   "execution_count": 5,
   "metadata": {
    "collapsed": false
   },
   "outputs": [
    {
     "data": {
      "text/plain": [
       "newton (generic function with 1 method)"
      ]
     },
     "execution_count": 5,
     "metadata": {},
     "output_type": "execute_result"
    }
   ],
   "source": [
    "function newton(f, x, iterations, precision, step_size)\n",
    "    ###...\n",
    "    ### Fuegen Sie hier Ihren Code ein\n",
    "    ###...\n",
    "end"
   ]
  },
  {
   "cell_type": "code",
   "execution_count": 1,
   "metadata": {
    "collapsed": true
   },
   "outputs": [],
   "source": [
    "g(z) = cos(z) * z^4 - 1\n",
    "\n",
    "iterations = 200\n",
    "precision = 1e-10\n",
    "step_size = 1e-6\n",
    "\n",
    "width = 1000\n",
    "height = 1000\n",
    "fractal = zeros(width, height)\n",
    "\n",
    "left = -2.0\n",
    "right = 2.0\n",
    "top = 2.0\n",
    "bottom = -2.0\n",
    "\n",
    "for x in 1:width\n",
    "    for y in 1:height\n",
    "        try\n",
    "            init_z = x * (left - right) / (width - 1) + right + (y * (top - bottom) / (height - 1) + bottom)im\n",
    "            fractal[x, y] = newton(g, init_z, iterations, precision, step_size)[2]\n",
    "        catch e\n",
    "        end\n",
    "    end\n",
    "end    "
   ]
  },
  {
   "cell_type": "markdown",
   "metadata": {},
   "source": [
    "Nun müssen wir die Grafik noch darstellen, was mithilfe des folgenden Abschnitts geschieht:"
   ]
  },
  {
   "cell_type": "code",
   "execution_count": 3,
   "metadata": {
    "collapsed": false
   },
   "outputs": [],
   "source": [
    "using PyPlot\n",
    "\n",
    "# rescale values of image                                                                                           \n",
    "sub = ones(width, height) * minimum(fractal)\n",
    "fractal = fractal - sub\n",
    "fractal = fractal / maximum(fractal)    \n",
    "\n",
    "pygui(true)\n",
    "try\n",
    "    imshow(log(fractal), cmap=\"viridis\")\n",
    "    catch e\n",
    "    try\n",
    "        imshow(log(fractal))\n",
    "        catch ex\n",
    "        imshow(fractal)\n",
    "    end\n",
    "end\n",
    "axis(\"off\")\n",
    "savefig(\"newton_fractal.pdf\")"
   ]
  }
 ],
 "metadata": {
  "kernelspec": {
   "display_name": "Julia 0.4.5",
   "language": "julia",
   "name": "julia-0.4"
  },
  "language_info": {
   "file_extension": ".jl",
   "mimetype": "application/julia",
   "name": "julia",
   "version": "0.4.5"
  }
 },
 "nbformat": 4,
 "nbformat_minor": 0
}
