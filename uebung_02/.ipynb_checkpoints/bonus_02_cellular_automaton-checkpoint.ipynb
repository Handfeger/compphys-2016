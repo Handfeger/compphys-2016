{
 "cells": [
  {
   "cell_type": "markdown",
   "metadata": {},
   "source": [
    "<table style=\"width: 100%; border-style: none;\">\n",
    "<tr style=\"border-style: none\">\n",
    "<td style=\"border-style: none; width: 1%; font-size: 16px\">Institut f&uuml;r Theoretische Physik<br /> Universit&auml;t zu K&ouml;ln</td>\n",
    "<td style=\"border-style: none; width: 1%; font-size: 16px\">&nbsp;</td>\n",
    "<td style=\"border-style: none; width: 1%; text-align: right; font-size: 16px\">Prof. Dr. Simon Trebst<br />Peter Br&ouml;cker</td>\n",
    "</tr>\n",
    "</table>\n",
    "<hr>\n",
    "<h1 style=\"font-weight:bold; text-align: center; margin: 0px; padding:0px;\">Computerphysik</h1>\n",
    "<h1 style=\"font-weight:bold; text-align: center; margin: 0px; padding:0px;\">&Uuml;bungsblatt 2</h1>\n",
    "<hr>\n",
    "<h3 style=\"font-weight:bold; text-align: center; margin: 0px; padding:0px; margin-bottom: 20px;\">Sommersemester 2016</h3>\n",
    "\n",
    "**Website:** [http://www.thp.uni-koeln.de/trebst/Lectures/2016-CompPhys.shtml](http://www.thp.uni-koeln.de/trebst/Lectures/2016-CompPhys.shtml)\n",
    "\n",
    "**Abgabe**: Montag, 25. April, 2016 vor der Vorlesung\n",
    "\n",
    "**Name**: <font color=\"red\">Bitte geben Sie ihren Namen an</font>\n",
    "\n",
    "**Matrikelnummer**: <font color=\"red\">Bitte geben Sie ihre Matrikelnummer an</font>"
   ]
  },
  {
   "cell_type": "markdown",
   "metadata": {},
   "source": [
    "<table style=\"border-style: none; width: 100%\"><tr style=\"border-style: none;\">\n",
    "<td style=\"border-style: none; width: 1%; font-size: 20px; font-weight: bold\">Zellulärer Automat</td>\n",
    "<td style=\"border-style: none; width: 1%; text-align: right\">(6 Bonuspunkte)</td></tr></table>\n",
    "\n"
   ]
  },
  {
   "cell_type": "markdown",
   "metadata": {
    "collapsed": false
   },
   "source": [
    "In dieser *optionalen Aufgabe* betrachten wir einen **zellulären Automaten**, dessen Zellen durch drei Parameter $a, b, c \\in [0, 1)$ beschrieben werden, welche die Konzentration dreier Spezies beschreiben sollen. Zu Anfang seien die Werte zufällig aus dem möglichen Wertebereich gewählt. \n",
    "\n",
    "Der zelluläre Automat funktioniert nun nach den folgenden Regeln:\n",
    "* Für jede Zelle wird der durchschnittliche Wert $\\overline{a}, \\overline{b}, \\overline{c}$ als Mittelwert der acht umgebenden Zellen sowie des Werts der Zelle selbst berechnet.\n",
    "* Der neue Zustand ist dann gegeben durch\n",
    "\n",
    "$\\quad a = \\min\\left(1.0,\\; \\overline{a}\\cdot\\left(1. + \\overline{b} - \\overline{c}\\right)\\right)$\n",
    "\n",
    "$\\quad b = \\min\\left(1.0,\\; \\overline{b}\\cdot \\left(1. + \\overline{c} - \\overline{a}\\right)\\right)$\n",
    "\n",
    "$\\quad c = \\min\\left(1.0,\\; \\overline{c}\\cdot \\left(1. + \\overline{a} - \\overline{b}\\right)\\right)$\n",
    "\n",
    "Beachten Sie, dass alle Zellen *gleichzeitig* in den neuen Zustand übergehen, d.h. die Berechnung der Mittelwerte darf ausschließlich mit den Werten des vorherigen Iterationsschritts passieren und nicht mit denen der schon partiell veränderten Matrix.\n",
    "\n",
    "In den unteren beiden Zellen finden Sie ein Skelett, das Sie um das Update der Zellen erweitern sollen. Visualisiert werden kann der zelluäre Automat, in dem eine der drei Konzentrationen dargestellt wird. Dazu stellen wir Ihnen die Funktion *update_image* zur Verfügung, mit der Sie die Änderung der Konzentrationen zeitlich aufgelöst verfolgen können. "
   ]
  },
  {
   "cell_type": "markdown",
   "metadata": {},
   "source": [
    "**update_image()**"
   ]
  },
  {
   "cell_type": "code",
   "execution_count": null,
   "metadata": {
    "collapsed": false
   },
   "outputs": [],
   "source": [
    "using PyPlot\n",
    "\n",
    "external_window = false\n",
    "\n",
    "try \n",
    "    pygui(true) # activate display in external window\n",
    "    external_window = true\n",
    "    catch e # probably in JuliaBox\n",
    "end\n",
    "\n",
    "function update_image(fig, image, data)\n",
    "    image[:set_data](data)\n",
    "    if external_window == false\n",
    "        IJulia.clear_output(true)\n",
    "        display(fig)\n",
    "    else\n",
    "        fig[:canvas][:draw]()\n",
    "    end\n",
    "end"
   ]
  },
  {
   "cell_type": "markdown",
   "metadata": {},
   "source": [
    "** Programmskelett**"
   ]
  },
  {
   "cell_type": "code",
   "execution_count": null,
   "metadata": {
    "collapsed": false
   },
   "outputs": [],
   "source": [
    "L = 256 # system size\n",
    "\n",
    "automaton_a = rand(L, L)\n",
    "automaton_b = rand(L, L)\n",
    "automaton_c = rand(L, L)\n",
    "\n",
    "coarse_automaton_a = zeros(L, L)\n",
    "coarse_automaton_b = zeros(L, L)\n",
    "coarse_automaton_c = zeros(L, L)\n",
    "\n",
    "fig = figure()\n",
    "ax = fig[:add_subplot](111)\n",
    "image = imshow(automaton_a)\n",
    "axis(\"off\")\n",
    "\n",
    "for step in 1:200\n",
    "    \n",
    "    ### ...\n",
    "    ### Fuegen Sie hier Ihren Code ein\n",
    "    ### ...\n",
    "    \n",
    "    # updated automaton_a is set as the new image\n",
    "   update_image(fig, image, automaton_a)\n",
    "end\n",
    "\n",
    "if external_window == false\n",
    "    close()\n",
    "end"
   ]
  },
  {
   "cell_type": "code",
   "execution_count": null,
   "metadata": {
    "collapsed": true
   },
   "outputs": [],
   "source": []
  }
 ],
 "metadata": {
  "kernelspec": {
   "display_name": "Julia 0.4.5",
   "language": "julia",
   "name": "julia-0.4"
  },
  "language_info": {
   "file_extension": ".jl",
   "mimetype": "application/julia",
   "name": "julia",
   "version": "0.4.5"
  }
 },
 "nbformat": 4,
 "nbformat_minor": 0
}
