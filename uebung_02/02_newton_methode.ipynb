{
 "cells": [
  {
   "cell_type": "markdown",
   "metadata": {},
   "source": [
    "<table style=\"width: 100%; border-style: none;\">\n",
    "<tr style=\"border-style: none\">\n",
    "<td style=\"border-style: none; width: 1%; font-size: 16px\">Institut f&uuml;r Theoretische Physik<br /> Universit&auml;t zu K&ouml;ln</td>\n",
    "<td style=\"border-style: none; width: 1%; font-size: 16px\">&nbsp;</td>\n",
    "<td style=\"border-style: none; width: 1%; text-align: right; font-size: 16px\">Prof. Dr. Simon Trebst<br />Peter Br&ouml;cker</td>\n",
    "</tr>\n",
    "</table>\n",
    "<hr>\n",
    "<h1 style=\"font-weight:bold; text-align: center; margin: 0px; padding:0px;\">Computerphysik</h1>\n",
    "<h1 style=\"font-weight:bold; text-align: center; margin: 0px; padding:0px;\">&Uuml;bungsblatt 2</h1>\n",
    "<hr>\n",
    "<h3 style=\"font-weight:bold; text-align: center; margin: 0px; padding:0px; margin-bottom: 20px;\">Sommersemester 2016</h3>\n",
    "\n",
    "**Website:** [http://www.thp.uni-koeln.de/trebst/Lectures/2016-CompPhys.shtml](http://www.thp.uni-koeln.de/trebst/Lectures/2016-CompPhys.shtml)\n",
    "\n",
    "**Abgabe**: Montag, 25. April, 2016 vor der Vorlesung\n",
    "\n",
    "**Name**: <font color=\"red\">Bitte geben Sie ihren Namen an</font>\n",
    "\n",
    "**Matrikelnummer**: <font color=\"red\">Bitte geben Sie ihre Matrikelnummer an</font>"
   ]
  },
  {
   "cell_type": "markdown",
   "metadata": {},
   "source": [
    "<table style=\"border-style: none; width: 100%\"><tr style=\"border-style: none;\">\n",
    "<td style=\"border-style: none; width: 1%; font-size: 20px; font-weight: bold\">Newton Methode</td>\n",
    "<td style=\"border-style: none; width: 1%; text-align: right\">(4 Punkte)</td></tr></table>\n",
    "\n",
    "In der Vorlesung haben Sie das **Newton-Verfahren** kennengelernt. Dieses soll nun angewendet werden, um die Nullstelle der weiter unten beschriebenen Funktion zu bestimmen. Vervollständigen Sie die Codeschablone und bestimmen Sie die Nullstellen für Startpunkte im Intervall $[0, 100]$. Tragen Sie dann die Werte der gefundenen Nullstellen gegen die Startpunkte auf.\n",
    "\n",
    "Die zu untersuchende Funktion werden Sie in der Quantenmechanik kennenlernen. Bei der Lösung des Problems eines Teilchens in einem endlichen Potentialtopf trifft man auf die Gleichung\n",
    "\n",
    "$\\quad k\\tan(ka) - \\kappa = 0$\n",
    "\n",
    "in der wir nun $a, \\kappa = 1$ setzen:"
   ]
  },
  {
   "cell_type": "code",
   "execution_count": null,
   "metadata": {
    "collapsed": false
   },
   "outputs": [],
   "source": [
    "f(k) = k * tan(k) - 1"
   ]
  },
  {
   "cell_type": "code",
   "execution_count": null,
   "metadata": {
    "collapsed": false
   },
   "outputs": [],
   "source": [
    "function newton(f, x, iterations, precision, step_size)\n",
    "    for i in 1:iterations\n",
    "        dx = (f(x + step_size) - f(x)) / step_size\n",
    "        \n",
    "        if dx != 0\n",
    "            ###...\n",
    "            ### Fuegen Sie hier Ihren Code ein\n",
    "            ###...\n",
    "        else\n",
    "            return (new_x, iterations)\n",
    "        end\n",
    "    end\n",
    "end"
   ]
  },
  {
   "cell_type": "code",
   "execution_count": null,
   "metadata": {
    "collapsed": false
   },
   "outputs": [],
   "source": [
    "using PyPlot\n",
    "pygui(false)\n",
    "iterations = 500\n",
    "precision = 1e-10\n",
    "step_size = 1e-6\n",
    "start_values = linspace(1,100,500)\n",
    "\n",
    "###...\n",
    "### Fuegen Sie hier Ihren Code ein\n",
    "###...\n",
    "\n",
    "figure()\n",
    "plot(start_values, roots)"
   ]
  },
  {
   "cell_type": "code",
   "execution_count": null,
   "metadata": {
    "collapsed": true
   },
   "outputs": [],
   "source": []
  }
 ],
 "metadata": {
  "kernelspec": {
   "display_name": "Julia 0.4.2",
   "language": "julia",
   "name": "julia-0.4"
  },
  "language_info": {
   "file_extension": ".jl",
   "mimetype": "application/julia",
   "name": "julia",
   "version": "0.4.2"
  }
 },
 "nbformat": 4,
 "nbformat_minor": 0
}
