{
 "cells": [
  {
   "cell_type": "markdown",
   "metadata": {},
   "source": [
    "<table style=\"width: 100%; border-style: none;\">\n",
    "<tr style=\"border-style: none\">\n",
    "<td style=\"border-style: none; width: 1%; font-size: 16px\">Institut f&uuml;r Theoretische Physik<br /> Universit&auml;t zu K&ouml;ln</td>\n",
    "<td style=\"border-style: none; width: 1%; font-size: 16px\">&nbsp;</td>\n",
    "<td style=\"border-style: none; width: 1%; text-align: right; font-size: 16px\">Prof. Dr. Simon Trebst<br />Peter Br&ouml;cker</td>\n",
    "</tr>\n",
    "</table>\n",
    "<hr>\n",
    "<h1 style=\"font-weight:bold; text-align: center; margin: 0px; padding:0px;\">Computerphysik</h1>\n",
    "<h1 style=\"font-weight:bold; text-align: center; margin: 0px; padding:0px;\">&Uuml;bungsblatt 8</h1>\n",
    "<hr>\n",
    "<h3 style=\"font-weight:bold; text-align: center; margin: 0px; padding:0px; margin-bottom: 20px;\">Sommersemester 2016</h3>\n",
    "\n",
    "<p>**Website:** [http://www.thp.uni-koeln.de/trebst/Lectures/2016-CompPhys.shtml](http://www.thp.uni-koeln.de/trebst/Lectures/2016-CompPhys.shtml)</p>\n",
    "\n",
    "<p>**Abgabe**: Montag, 13. Juni, 2016 vor der Vorlesung</p>\n",
    "\n",
    "<p>**Name**: <font color=\"red\">Bitte geben Sie ihren Namen an</font></p>\n",
    "\n",
    "<p>**Matrikelnummer**: <font color=\"red\">Bitte geben Sie ihre Matrikelnummer an</font></p><br />\n",
    "\n",
    "\n",
    "<table style=\"border-style: none; width: 100%; margin-top: 20px; padding: 0px;\"\n",
    "><tr style=\"border-style: none; margin: 0px; padding: 0px;\">\n",
    "<td style=\"border-style: none; width: 80%; margin: 0px; padding: 0px; font-size: 20px; font-weight: bold\">Allerlei aus dem Potentialtopf</td>\n",
    "<td style=\"border-style: none; width: 20%; margin: 0px; padding: 0px; text-align: right\">(5 Punkte)</td></tr></table>"
   ]
  },
  {
   "cell_type": "markdown",
   "metadata": {},
   "source": [
    "In unserem ersten Beispiel wollen wir ein quantenmechanisches Teilchen verfolgen, welches wir nicht nur in eine Raumdimension zwängen sondern auch noch in einen sogenannten **Potentialtopf** sperren. Eine derartige Situation lässt sich dann durch die *zeitunabhängige* Schrödinger-Gleichung in einer Dimension\n",
    "\n",
    "\\begin{equation}\n",
    "\\left[-\\frac{1}{2}\\frac{d^2}{d x^2} + V(x)\\right]\\psi(x) = E\\psi(x) \\,,\n",
    "\\end{equation}\n",
    "\n",
    "beschreiben, wobei wir $\\hbar=m=1$ gesetzt haben. Beachten Sie, dass es sich hierbei um eine *gewöhnliche* Differentialgleichung handelt.\n",
    "\n",
    "Diese Schrödinger-Gleichung wollen wir nun für verschiedene Potentiale $V(x)$ - etwa jene, die in der Abbildung dargestellt sind - anhand des in der Vorlesung vorgestellten **Numerov-Algorithmus** numerisch exakt \n",
    "lösen.\n",
    "\n",
    "**Potentialtöpfe**\n",
    "\n",
    "Dazu können wir wie folgt vorgehen: Wir diskretisieren die $x$-Achse im Bereich -$1.0 \\leq x \\leq 1.0$ in 1000 Abschnitte der\n",
    "Größe $\\Delta x = 0.002$. Des weiteren benötigen wir für das Numerov-Verfahren, in welchem wir die Schrödinger-Gleichung vom linken zum rechten Rand entlang der obigen Diskretisierungsschritte integrieren wollen, zwei Startwerte.\n",
    "\n",
    "Dazu vergegenwärtigen wir uns zum einen, dass die Wellenfunktion an den Rändern des Potentialtopfes wegen der unendlich hohen Wände verschwinden muss, wohingegen die Wellenfunktion innerhalb des Potentialtopfes durchaus einen endlichen Wert annehmen kann. Dies wollen wir mit den folgenden Startwerten des Numerov-Verfahrens in der Nähe des linken Randes wie folgt modellieren:\n",
    "\n",
    "\\begin{align}\n",
    "\\psi(x = -1.000) &= 0 \\,, \\\\\n",
    "\\psi(x = -0.998) &= 0.5 \\,,\n",
    "\\end{align}\n",
    "\n",
    "wobei die exakte Wahl des endlichen Wertes für $\\psi(x = -0.998)$ unerheblich ist, da wir die Wellenfunktion nach Integration durch das Numerov-Verfahren unabhänging von dieser Wahl normieren müssen.\n",
    "\n",
    "<img src=\"http://www.thp.uni-koeln.de/trebst/Lectures/CompPhys-2016/08_potentiale.png\" width=\"80%\"/>\n",
    "\n",
    "#### Aufgaben\n",
    "\n",
    "Führen Sie die Numerov-Integration für die dargestellten Potentiale und verschiedene fixe Energien $E$ aus, also zum Beispiel für 250 äquidistante Energiewerte im Bereich $-5 \\leq E \\leq 95$ und plotten Sie jeweils den Wert von $\\psi(x = +1)$ als Funktion der Energie.\n",
    "\n",
    "Die Nullstellen dieser Funktion entsprechen den erlaubten Eigenenergien, denn nur dann wird auch die Randbedingung am *rechten* Rand erfüllt, wo die Wellenfunktion ebenfalls verschwinden muss, d.h. $\\psi(x = +1) = 0$."
   ]
  },
  {
   "cell_type": "code",
   "execution_count": null,
   "metadata": {
    "collapsed": true
   },
   "outputs": [],
   "source": []
  }
 ],
 "metadata": {
  "kernelspec": {
   "display_name": "Julia 0.4.5",
   "language": "julia",
   "name": "julia-0.4"
  },
  "language_info": {
   "file_extension": ".jl",
   "mimetype": "application/julia",
   "name": "julia",
   "version": "0.4.5"
  }
 },
 "nbformat": 4,
 "nbformat_minor": 0
}
