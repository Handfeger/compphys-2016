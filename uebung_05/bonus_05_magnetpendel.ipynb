{
 "cells": [
  {
   "cell_type": "markdown",
   "metadata": {},
   "source": [
    "<table style=\"width: 100%; border-style: none;\">\n",
    "<tr style=\"border-style: none\">\n",
    "<td style=\"border-style: none; width: 1%; font-size: 16px\">Institut f&uuml;r Theoretische Physik<br /> Universit&auml;t zu K&ouml;ln</td>\n",
    "<td style=\"border-style: none; width: 1%; font-size: 16px\">&nbsp;</td>\n",
    "<td style=\"border-style: none; width: 1%; text-align: right; font-size: 16px\">Prof. Dr. Simon Trebst<br />Peter Br&ouml;cker</td>\n",
    "</tr>\n",
    "</table>\n",
    "<hr>\n",
    "<h1 style=\"font-weight:bold; text-align: center; margin: 0px; padding:0px;\">Computerphysik</h1>\n",
    "<h1 style=\"font-weight:bold; text-align: center; margin: 0px; padding:0px;\">&Uuml;bungsblatt 5</h1>\n",
    "<hr>\n",
    "<h3 style=\"font-weight:bold; text-align: center; margin: 0px; padding:0px; margin-bottom: 20px;\">Sommersemester 2016</h3>\n",
    "\n",
    "**Website:** [http://www.thp.uni-koeln.de/trebst/Lectures/2016-CompPhys.shtml](http://www.thp.uni-koeln.de/trebst/Lectures/2016-CompPhys.shtml)\n",
    "\n",
    "**Abgabe**: Montag, 23. Mai, 2016 vor der Vorlesung\n",
    "\n",
    "**Name**: <font color=\"red\">Bitte geben Sie ihren Namen an</font>\n",
    "\n",
    "**Matrikelnummer**: <font color=\"red\">Bitte geben Sie ihre Matrikelnummer an</font>"
   ]
  },
  {
   "cell_type": "markdown",
   "metadata": {},
   "source": [
    "<table style=\"border-style: none; width: 100%\"><tr style=\"border-style: none;\">\n",
    "<td style=\"border-style: none; width: 1%; font-size: 20px; font-weight: bold\">Magnetpendel</td>\n",
    "<td style=\"border-style: none; width: 1%; text-align: right\">(10 Bonuspunkte)</td></tr></table>\n",
    "\n",
    "Wir betrachten ein **Pendel**, das nun magnetisch sei und in einer Ebene schwingt. Es wechselwirke mit dem **Schwerefeld** der Erde, sowie mit **drei Magneten** und werde durch **Reibung** gebremst. Die drei Magnete seien gleichmäßig auf einem Ring mit Radius $d = 1$ um den Ursprung angeordnet, wie auf der Skizze gezeigt.\n",
    "\n",
    "![Skizze des Aufbaus](bonus_05_magnetpendel.png)\n",
    "\n",
    "Die gravitative Wechselwirkung nähern wir wie zuvor durch\n",
    "\n",
    "\\begin{equation}\\vec{F}_g \\approx m\\,g\\,h\\;\\vec{e}_z \\approx k_g \\vec{r} \\,.\\end{equation}\n",
    "\n",
    "Die Konstante $k_g$ steuert die Stärke der Gravitation und $\\vec{r}$ ist der aktuelle Ortsvektor des Pendels. Die Näherung ist, wie auch beim eindimensionalen Pendel, dass wir nur kleine Auslenkungen aus der Ruhelage betrachten.\n",
    "\n",
    "Kommen wir nun zu den drei Magneten. Sie üben eine Kraft $\\vec{F}_{k,i}$ auf das Pendel aus, wobei $i$ der Index des Körpers $\\{1,2,3\\}$ ist und $k_i$ eine weitere Kraftkonstante. So ergibt sich das folgende Kraftgesetz:\n",
    "\n",
    "\\begin{equation}\\vec{F}_{k, i} = k_i\\dfrac{\\vec{e}_r}{|\\vec{r}^2|} \\,.\\end{equation}\n",
    "\n",
    "\n",
    "Zuletzt fügen wir noch eine Reibungskraft $\\vec{F}_r$ hinzu, die proportional zur Geschwindigkeit ist und deren Stärke durch $\\gamma$ bestimmt wird\n",
    "\n",
    "\\begin{equation}\\vec{F}_r = -\\gamma\\vec{v} \\,.\\end{equation}\n",
    "\n",
    "Lassen Sie sich nicht durch die Anzahl der Konstanten abschrecken. Die Simulation ist nicht viel schwerer als die vorherigen Aufgaben! Die Gesamtbewegungsgleichung ist also\n",
    "\n",
    "\\begin{equation}\n",
    "\\vec{a}(t) = \\vec{F}_g + \\sum\\limits_{i} \\vec{F}_{k, i} + \\vec{F}_r\n",
    "= -k_g \\vec{r} + \\sum\\limits_{i} k_i\\dfrac{\\vec{e}_r}{|\\vec{r}|^2} - \\gamma\\vec{v} \\,,\n",
    "\\end{equation}\n",
    "\n",
    "wobei wir die Masse des Pendels $m = 1$ gesetzt haben und $a(t)$ die Beschleunigung bezeichnet. Wir nehmen an, dass die Auslenkung des Pendels in $z$-Richtung vernachlässigbar ist und betrachten dadurch effektiv ein zweidimensionales Problem, d.h. Sie berechnen nur die $x$ und $y$ Komponenten des Orts, der Geschwindigkeit und der Beschleunigung. Beachten Sie aber, dass die Ebene in der das Pendel schwingt im Abstand $h$ über der Ebene der Magneten liegt. In der Berechnung der Abstandsvektoren $\\vec{r}$ zwischen Pendel und Magneten geht der Abstand $h$ also sehr wohl ein.\n",
    "\n",
    "Die passende Wahl des Algorithmus zur Integration der obigen Bewegungsgleichung sei Ihnen selbst überlassen. Der bereits behandelte Runge-Kutta-Algorithmus ist hierfür gut geeignet, aber Sie können auch einmal probieren, ob der backward-Euler Algorithmus stabil genug ist. Sie haben außerdem den Verlet-Algorithmus kennengelernt, der speziell für das Lösen von Bewegungsgleichungen entwickelt wurde.\n",
    "\n",
    "Beginnen Sie damit, Trajektorien des Pendels zu berechnen, und stellen Sie diese grafisch dar. Hierzu müssen Sich sich insbesondere geeignete Abbruchbedingungen überlegen. Welche Endpositionen sind überhaupt möglich? \n",
    "In einem zweiten Schritt zeichnen Sie nun eine Karte, die jeder Startposition eine Farbe zuordnet, welche einer der möglichen Endpositionen entsprechen soll. Für die Magneten als Endposition können Sie z.B. die Farben so wählen wie in der Skizze.\n",
    "\n",
    "Als gute Werte für die oben genannten Konstanten haben sich herausgestellt:\n",
    "\n",
    "$k_g = 0.2,\\quad k_{k,1} = k_{k,2} = k_{k,3} = 20.0,\\quad h = 0.2$\n",
    "\n",
    "Erstellen Sie Karten für die Werte $\\gamma \\in \\{0.01, 0.1, 1.0, 10, 100\\}$. \n",
    "\n",
    "**Hinweis**\n",
    "\n",
    "Das geschickte Wählen der Abbruchbedingungen kann die benötigte Rechenzeit erheblich reduzieren. Führen Sie vor dem Berechnen der Karten Testläufe für einige repräsentative Punkte verschiedener Kartenbereiche durch, um ein Gefühl für die Dauer zu bekommen. Um Daten zwischenzuspeichern können Sie das Modul *DataFrames* verwenden."
   ]
  },
  {
   "cell_type": "code",
   "execution_count": 25,
   "metadata": {
    "collapsed": false
   },
   "outputs": [
    {
     "name": "stderr",
     "output_type": "stream",
     "text": [
      "INFO: Cloning RungeKutta from git://github.com/timothyrenner/RungeKutta.jl.git\n",
      "INFO: Computing changes...\n"
     ]
    }
   ],
   "source": [
    "Pkg.clone(\"git://github.com/timothyrenner/RungeKutta.jl.git\");"
   ]
  },
  {
   "cell_type": "code",
   "execution_count": 22,
   "metadata": {
    "collapsed": false
   },
   "outputs": [],
   "source": [
    "using PyPlot, DataArrays, DataFrames, RungeKutta\n",
    "\"\"\"\n",
    "magnetpendel(t_min, dt, t_max, start_r, start_v[, k_g, k1, k2, k3, h, γ, name])\n",
    "\n",
    "generate a 2D map for a magentic pendel with 3 magnets containing acceleration, velocity and position\n",
    "\n",
    "you may specify a name as which the data should be saved on your drive\n",
    "\n",
    "all parameters have to be in  Float64 format\n",
    "\n",
    "@return DataFrame\n",
    "Will return the DataFrame with \n",
    "\"\"\"\n",
    "function magnetpendel(\n",
    "    t_min::Number,\n",
    "    dt::Number,\n",
    "    t_max::Number,\n",
    "    start_r::Vector,\n",
    "    start_v::Vector;\n",
    "    k_g::Float64         = 1.,\n",
    "    k1::Float64          = 1.,\n",
    "    k2::Float64          = 1.,\n",
    "    k3::Float64          = 1.,\n",
    "    h::Float64           = 1.,\n",
    "    γ::Float64           = 1.,\n",
    "    name::AbstractString = \"temp\"\n",
    ")\n",
    "    # collect the frame\n",
    "    times = collect(t_min:dt:t_max)\n",
    "    data = DataFrame(times=times)\n",
    "    r = zeros(Float64, size(times,1), 2)\n",
    "    v = zeros(Float64, size(times,1), 2)\n",
    "    \n",
    "    r[1,:] = start_r\n",
    "    v[1,:] = start_v\n",
    "    \n",
    "    ### Locations of Magnets\n",
    "    loc_k1=[1,0]\n",
    "    loc_k2=[cosd(120),sind(120)]\n",
    "    loc_k3=[cosd(240),sind(240)]\n",
    "    \n",
    "    \n",
    "    ### Translation Functions\n",
    "    # translate to new base\n",
    "    translate(r::Vector, new_base::Vector) = r-new_base\n",
    "    \n",
    "    ###Forces\n",
    "    # Gravitational Force\n",
    "    F_g(r::Vector) = -1 * k_g * r\n",
    "    \n",
    "    # Magnetic Force of pendulum to 1 magnet in 3d (using the specified height of the magnets)\n",
    "    F_m(r::Vector, mag_loc::Vector, k_mag) = k_mag * (translate(r, mag_loc)/norm(translate(r, mag_loc))) / (norm(translate(r, mag_loc))^2 + h^2)\n",
    "    \n",
    "    # Friction Force \n",
    "    F_γ(v::Vector) = -1 * γ * v\n",
    "    \n",
    "    # Added Forces / Acceleration (m=1)\n",
    "    F(r::Vector, v::Vector) = F_g(r) + F_m(r, loc_k1, k1) + F_m(r, loc_k2, k2) + F_m(r, loc_k3, k3) + F_γ(v)\n",
    "    F(r::Array{Float64, 2}, v::Array{Float64, 2}) = reshape(F(vec(r), vec(v)), 1, 2)\n",
    "    \n",
    "    # Forward Euler\n",
    "    \n",
    "        \n",
    "    # save values on disc and return the data\n",
    "    data[:r_x] = r[:,1]\n",
    "    data[:r_y] = r[:,2]\n",
    "    data[:v_x] = v[:,1]\n",
    "    data[:v_y] = v[:,2]\n",
    "    writetable(string(name, \".csv\"), data) \n",
    "    return data\n",
    "end;"
   ]
  },
  {
   "cell_type": "code",
   "execution_count": 24,
   "metadata": {
    "collapsed": false
   },
   "outputs": [
    {
     "data": {
      "text/html": [
       "<table class=\"data-frame\"><tr><th></th><th>times</th><th>r_x</th><th>r_y</th><th>v_x</th><th>v_y</th></tr><tr><th>1</th><td>0.0</td><td>0.9</td><td>0.0</td><td>0.0</td><td>0.0</td></tr><tr><th>2</th><td>0.1</td><td>0.892841794532498</td><td>0.0</td><td>0.0</td><td>0.0</td></tr><tr><th>3</th><td>0.2</td><td>0.8857357774990635</td><td>0.0</td><td>0.0</td><td>0.0</td></tr><tr><th>4</th><td>0.3</td><td>0.8786820394804651</td><td>0.0</td><td>0.0</td><td>0.0</td></tr><tr><th>5</th><td>0.4</td><td>0.8716806543506559</td><td>0.0</td><td>0.0</td><td>0.0</td></tr><tr><th>6</th><td>0.5</td><td>0.8647316794327431</td><td>0.0</td><td>0.0</td><td>0.0</td></tr><tr><th>7</th><td>0.6</td><td>0.8578351556813257</td><td>0.0</td><td>0.0</td><td>0.0</td></tr><tr><th>8</th><td>0.7</td><td>0.8509911078896193</td><td>0.0</td><td>0.0</td><td>0.0</td></tr><tr><th>9</th><td>0.8</td><td>0.8441995449197667</td><td>0.0</td><td>0.0</td><td>0.0</td></tr><tr><th>10</th><td>0.9</td><td>0.8374604599547246</td><td>0.0</td><td>0.0</td><td>0.0</td></tr><tr><th>11</th><td>1.0</td><td>0.8307738307701146</td><td>0.0</td><td>0.0</td><td>0.0</td></tr></table>"
      ],
      "text/plain": [
       "11x5 DataFrames.DataFrame\n",
       "│ Row │ times │ r_x      │ r_y │ v_x │ v_y │\n",
       "┝━━━━━┿━━━━━━━┿━━━━━━━━━━┿━━━━━┿━━━━━┿━━━━━┥\n",
       "│ 1   │ 0.0   │ 0.9      │ 0.0 │ 0.0 │ 0.0 │\n",
       "│ 2   │ 0.1   │ 0.892842 │ 0.0 │ 0.0 │ 0.0 │\n",
       "│ 3   │ 0.2   │ 0.885736 │ 0.0 │ 0.0 │ 0.0 │\n",
       "│ 4   │ 0.3   │ 0.878682 │ 0.0 │ 0.0 │ 0.0 │\n",
       "│ 5   │ 0.4   │ 0.871681 │ 0.0 │ 0.0 │ 0.0 │\n",
       "│ 6   │ 0.5   │ 0.864732 │ 0.0 │ 0.0 │ 0.0 │\n",
       "│ 7   │ 0.6   │ 0.857835 │ 0.0 │ 0.0 │ 0.0 │\n",
       "│ 8   │ 0.7   │ 0.850991 │ 0.0 │ 0.0 │ 0.0 │\n",
       "│ 9   │ 0.8   │ 0.8442   │ 0.0 │ 0.0 │ 0.0 │\n",
       "│ 10  │ 0.9   │ 0.83746  │ 0.0 │ 0.0 │ 0.0 │\n",
       "│ 11  │ 1.0   │ 0.830774 │ 0.0 │ 0.0 │ 0.0 │"
      ]
     },
     "execution_count": 24,
     "metadata": {},
     "output_type": "execute_result"
    }
   ],
   "source": [
    "magnetpendel(0,.1,1,[.9,0],[0,0])"
   ]
  },
  {
   "cell_type": "code",
   "execution_count": 3,
   "metadata": {
    "collapsed": false
   },
   "outputs": [
    {
     "data": {
      "text/plain": [
       "2x5 Array{Float64,2}:\n",
       " 0.0  0.0  0.0  0.0  0.0\n",
       " 0.0  0.0  0.0  0.0  0.0"
      ]
     },
     "execution_count": 3,
     "metadata": {},
     "output_type": "execute_result"
    }
   ],
   "source": [
    "zeros(2,5)"
   ]
  }
 ],
 "metadata": {
  "kernelspec": {
   "display_name": "Julia 0.4.5",
   "language": "julia",
   "name": "julia-0.4"
  },
  "language_info": {
   "file_extension": ".jl",
   "mimetype": "application/julia",
   "name": "julia",
   "version": "0.4.5"
  }
 },
 "nbformat": 4,
 "nbformat_minor": 0
}
