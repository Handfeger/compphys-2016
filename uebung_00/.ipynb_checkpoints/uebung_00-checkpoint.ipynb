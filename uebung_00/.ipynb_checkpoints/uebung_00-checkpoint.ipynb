{
 "cells": [
  {
   "cell_type": "markdown",
   "metadata": {},
   "source": [
    "<table style=\"width: 100%; border-style: none;\">\n",
    "<tr style=\"border-style: none\">\n",
    "<td style=\"border-style: none; width: 1%; font-size: 16px\">Institut f&uuml;r Theoretische Physik<br /> Universit&auml;t zu K&ouml;ln</td>\n",
    "<td style=\"border-style: none; width: 1%; font-size: 16px\">&nbsp;</td>\n",
    "<td style=\"border-style: none; width: 1%; text-align: right; font-size: 16px\">Prof. Dr. Simon Trebst<br />Peter Br&ouml;cker</td>\n",
    "</tr>\n",
    "</table>\n",
    "<hr>\n",
    "<h1 style=\"font-weight:bold; text-align: center; margin: 0px; padding:0px;\">Computerphysik</h1>\n",
    "<h1 style=\"font-weight:bold; text-align: center; margin: 0px; padding:0px;\">&Uuml;bungsblatt 0</h1>\n",
    "<hr>\n",
    "<h3 style=\"font-weight:bold; text-align: center; margin: 0px; padding:0px; margin-bottom: 20px;\">Sommersemester 2016</h3>\n",
    "\n",
    "**Website:** [http://www.thp.uni-koeln.de/trebst/Lectures/2016-CompPhys.shtml](http://www.thp.uni-koeln.de/trebst/Lectures/2016-CompPhys.shtml)\n",
    "\n",
    "**Abgabe**: Präsenzübung in der ersten Vorlesungswoche\n",
    "\n",
    "\n",
    "### Punktevergabe\n",
    "\n",
    "Auf den folgenden Übungsblättern werden Sie zwei Aufgabentypen finden. Dies sind zum einen **Pflichtaufgaben**, die sich um die in der Vorlesung besprochenen numerischen Methoden drehen. Für diese werden Punkte vergeben von denen Sie am Ende mindestens 50% erreicht haben müssen um zur Klausur zugelassen zu werden. Alle Programmierkenntnisse, die Sie zum Lösen dieser Aufgaben benötigen, werden Sie durch die Aufgaben aus der ersten Gruppe erlernen. Außerdem gibt es Aufgaben, die aus **weiterführenden Anwendungen** der erlernten Kenntnissen bestehen. Diese optionalen Aufgaben bauen auf den Pflichtaufgaben auf und illustrieren vor allem die vielseitigen, praktischen Anwendungen in der Physik. Durch deren Bearbeitung können Sie außerdem **Bonuspunkte** sammeln.\n",
    "\n",
    "### Abgabemodus\n",
    "\n",
    "Die Abgabe erfolgt **wöchentlich** und **individuell**, d.h. wir erlauben keine Gruppenabgaben. Bitte nutzen Sie für die Bearbeitung die Notebooks, die Sie dann per Email an Ihren Übungsgruppenleiter senden. Für die Bonusaufgaben gewähren wir mindestens zwei Wochen Arbeitszeit, in manchen Fällen auch länger."
   ]
  },
  {
   "cell_type": "markdown",
   "metadata": {},
   "source": [
    "## 0. Hello World\n",
    "\n",
    "Schreiben Sie ein sogenanntes **Hello world** Programm in Julia, d.h. ein Programm, welches die einfach Ausgabe “Hello world!\" erzeugt."
   ]
  },
  {
   "cell_type": "code",
   "execution_count": 2,
   "metadata": {
    "collapsed": false
   },
   "outputs": [
    {
     "name": "stdout",
     "output_type": "stream",
     "text": [
      "Hello World!\n"
     ]
    }
   ],
   "source": [
    "println(\"Hello World!\")"
   ]
  },
  {
   "cell_type": "markdown",
   "metadata": {},
   "source": [
    "## 1. Dezimalzahlen\n",
    "\n",
    "Führen Sie das folgende Programm aus und untersuchen Sie die Ausgabe. Hätten Sie das Ergebnis erwartet?"
   ]
  },
  {
   "cell_type": "code",
   "execution_count": 24,
   "metadata": {
    "collapsed": false
   },
   "outputs": [
    {
     "name": "stdout",
     "output_type": "stream",
     "text": [
      "false\n"
     ]
    },
    {
     "data": {
      "text/plain": [
       "\"Should be false because of float rounding issues\""
      ]
     },
     "execution_count": 24,
     "metadata": {},
     "output_type": "execute_result"
    }
   ],
   "source": [
    "a = 0.1\n",
    "b = 0.2\n",
    "c = 0.3\n",
    "\n",
    "println((a + b) == c)\n",
    "\"Should be false because of float rounding issues\""
   ]
  },
  {
   "cell_type": "markdown",
   "metadata": {},
   "source": [
    "## 2. Fibonacci Zahlen\n",
    "\n",
    "Schreiben Sie ein Programm zur Berechnung der **Fibonacci-Zahlen** $F_n$, die für $n \\geq 2$ folgendermaßen definiert sind:\n",
    "\n",
    "$\\quad F_n = F_{n - 1} + F_{n - 2}$\n",
    "\n",
    "Benötigt werden außerdem die Werte $F_0 = 0$ und $F_1 = 1$, die nicht aus vorherigen berechnet werden."
   ]
  },
  {
   "cell_type": "code",
   "execution_count": 4,
   "metadata": {
    "collapsed": false
   },
   "outputs": [
    {
     "name": "stdout",
     "output_type": "stream",
     "text": [
      "    0          0\n",
      "    1          1\n",
      "    2          1\n",
      "    3          2\n",
      "    4          3\n",
      "    5          5\n",
      "    6          8\n",
      "    7         13\n",
      "    8         21\n",
      "    9         34\n",
      "   10         55\n",
      "   11         89\n",
      "   12        144\n",
      "   13        233\n",
      "   14        377\n",
      "   15        610\n",
      "   16        987\n",
      "   17       1597\n",
      "   18       2584\n",
      "   19       4181\n",
      "   20       6765\n",
      "   21      10946\n",
      "   22      17711\n",
      "   23      28657\n",
      "   24      46368\n",
      "   25      75025\n",
      "   26     121393\n",
      "   27     196418\n",
      "   28     317811\n",
      "   29     514229\n",
      "   30     832040\n"
     ]
    }
   ],
   "source": [
    "function fib_rec(runs, n_0=0, n_1=1, it=1)\n",
    "    if (it == runs)\n",
    "        return n_1\n",
    "    end\n",
    "    if (runs in 0:1) \n",
    "        return runs\n",
    "    end\n",
    "    \n",
    "    fib_rec(runs, n_1, n_0+n_1, it+1)\n",
    "end\n",
    "\n",
    "# Diese Schleife rechnet die ersten 30 Fibonacci Zahlen aus und gibt die Werte als Tabelle aus\n",
    "for n in 0:30\n",
    "    fibonacci_n = fib_rec(n)\n",
    "    # in diesem Bereich soll die n-te Fibonacci-Zahl berechnet werden und in der Variable\n",
    "    # fibonacci_n gespeichert werden\n",
    "    ### ...\n",
    "    @printf \"%5i %10i\\n\" n fibonacci_n\n",
    "end"
   ]
  },
  {
   "cell_type": "markdown",
   "metadata": {},
   "source": [
    "Das Verhältnis zweier aufeinanderfolgender Fibonacci-Zahlen verhält sich asymptotisch wie der goldene Schnitt $\\phi = \\frac{1}{2}(1 + \\sqrt{5})$. Ab welchem Index $n$, ist die Abweichung kleiner als $10^{-1}, 10^{-3}, 10^{-5}$?"
   ]
  },
  {
   "cell_type": "code",
   "execution_count": 23,
   "metadata": {
    "collapsed": false
   },
   "outputs": [
    {
     "name": "stdout",
     "output_type": "stream",
     "text": [
      "1.618033988749895\n",
      "    4 1.000000e-01\n",
      "    9 1.000000e-03\n",
      "   13 1.000000e-05\n",
      "   18 1.000000e-07\n",
      "   23 1.000000e-09\n",
      "   28 1.000000e-11\n"
     ]
    }
   ],
   "source": [
    "golden_ratio = 0.5 * (1 + sqrt(5))\n",
    "precision = 1e-1\n",
    "n = 2\n",
    "fibn_0 = 1\n",
    "fibn_1 = 1\n",
    "\n",
    "# Dieser Typ Schleife laeuft bis sie durch ein break unterbrochen wird.\n",
    "while true\n",
    "    ### Berechnung der n-ten Fibonacci-Zahl\n",
    "    new=fibn_0+fibn_1\n",
    "    \n",
    "    fibn_0=fibn_1\n",
    "    fibn_1=new\n",
    "    \n",
    "    \n",
    "    ### Vergleich von n-ter Fibonacci-Zahl und goldenem Schnitt\n",
    "    ### abbrechen oder weiter?\n",
    "    #@printf \"%5i %5i %5f\\n\" fibn_0 fibn_1 abs((fibn_1/fibn_0)-golden_ratio)\n",
    "    if (abs((fibn_1/fibn_0)-golden_ratio)<precision)\n",
    "        @printf \"%5i %e\\n\" n precision\n",
    "        precision = precision*1e-2\n",
    "    end\n",
    "    \n",
    "    if(precision<1e-12)\n",
    "        break\n",
    "    end\n",
    "        \n",
    "    n+=1\n",
    "        \n",
    "        \n",
    "    if n > 1000000\n",
    "        println(\"Precision not attainable for n <= 1000000\")\n",
    "        break\n",
    "    end\n",
    "end"
   ]
  }
 ],
 "metadata": {
  "kernelspec": {
   "display_name": "Julia 0.4.5",
   "language": "julia",
   "name": "julia-0.4"
  },
  "language_info": {
   "file_extension": ".jl",
   "mimetype": "application/julia",
   "name": "julia",
   "version": "0.4.5"
  }
 },
 "nbformat": 4,
 "nbformat_minor": 0
}
