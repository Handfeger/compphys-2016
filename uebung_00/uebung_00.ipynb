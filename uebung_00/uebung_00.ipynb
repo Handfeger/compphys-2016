{
 "cells": [
  {
   "cell_type": "markdown",
   "metadata": {},
   "source": [
    "<table style=\"width: 100%; border-style: none;\">\n",
    "<tr style=\"border-style: none\">\n",
    "<td style=\"border-style: none; width: 1%; font-size: 16px\">Institut f&uuml;r Theoretische Physik<br /> Universit&auml;t zu K&ouml;ln</td>\n",
    "<td style=\"border-style: none; width: 1%; font-size: 16px\">&nbsp;</td>\n",
    "<td style=\"border-style: none; width: 1%; text-align: right; font-size: 16px\">Prof. Dr. Simon Trebst<br />Peter Br&ouml;cker</td>\n",
    "</tr>\n",
    "</table>\n",
    "<hr>\n",
    "<h1 style=\"font-weight:bold; text-align: center; margin: 0px; padding:0px;\">Computerphysik</h1>\n",
    "<h1 style=\"font-weight:bold; text-align: center; margin: 0px; padding:0px;\">&Uuml;bungsblatt 0</h1>\n",
    "<hr>\n",
    "<h3 style=\"font-weight:bold; text-align: center; margin: 0px; padding:0px; margin-bottom: 20px;\">Sommersemester 2016</h3>\n",
    "\n",
    "**Website:** [http://www.thp.uni-koeln.de/trebst/Lectures/2016-CompPhys.shtml](http://www.thp.uni-koeln.de/trebst/Lectures/2016-CompPhys.shtml)\n",
    "\n",
    "**Abgabe**: Präsenzübung in der ersten Vorlesungswoche\n",
    "\n",
    "\n",
    "### Punktevergabe\n",
    "\n",
    "Auf den folgenden Übungsblättern werden Sie zwei Aufgabentypen finden. Dies sind zum einen **Pflichtaufgaben**, die sich um die in der Vorlesung besprochenen numerischen Methoden drehen. Für diese werden Punkte vergeben von denen Sie am Ende mindestens 50% erreicht haben müssen um zur Klausur zugelassen zu werden. Alle Programmierkenntnisse, die Sie zum Lösen dieser Aufgaben benötigen, werden Sie durch die Aufgaben aus der ersten Gruppe erlernen. Außerdem gibt es Aufgaben, die aus **weiterführenden Anwendungen** der erlernten Kenntnissen bestehen. Diese optionalen Aufgaben bauen auf den Pflichtaufgaben auf und illustrieren vor allem die vielseitigen, praktischen Anwendungen in der Physik. Durch deren Bearbeitung können Sie außerdem **Bonuspunkte** sammeln.\n",
    "\n",
    "### Abgabemodus\n",
    "\n",
    "Die Abgabe erfolgt **wöchentlich** und **individuell**, d.h. wir erlauben keine Gruppenabgaben. Bitte nutzen Sie für die Bearbeitung die Notebooks, die Sie dann per Email an Ihren Übungsgruppenleiter senden. Für die Bonusaufgaben gewähren wir mindestens zwei Wochen Arbeitszeit, in manchen Fällen auch länger."
   ]
  },
  {
   "cell_type": "markdown",
   "metadata": {},
   "source": [
    "## 0. Hello World\n",
    "\n",
    "Schreiben Sie ein sogenanntes **Hello world** Programm in Julia, d.h. ein Programm, welches die einfach Ausgabe “Hello world!\" erzeugt."
   ]
  },
  {
   "cell_type": "code",
   "execution_count": null,
   "metadata": {
    "collapsed": true
   },
   "outputs": [],
   "source": []
  },
  {
   "cell_type": "markdown",
   "metadata": {},
   "source": [
    "## 1. Dezimalzahlen\n",
    "\n",
    "Führen Sie das folgende Programm aus und untersuchen Sie die Ausgabe. Hätten Sie das Ergebnis erwartet?"
   ]
  },
  {
   "cell_type": "code",
   "execution_count": null,
   "metadata": {
    "collapsed": false
   },
   "outputs": [],
   "source": [
    "a = 0.1\n",
    "b = 0.2\n",
    "c = 0.3\n",
    "\n",
    "println((a + b) == c)"
   ]
  },
  {
   "cell_type": "markdown",
   "metadata": {},
   "source": [
    "## 2. Fibonacci Zahlen\n",
    "\n",
    "Schreiben Sie ein Programm zur Berechnung der **Fibonacci-Zahlen** $F_n$, die für $n \\geq 2$ folgendermaßen definiert sind:\n",
    "\n",
    "$\\quad F_n = F_{n - 1} + F_{n - 2}$\n",
    "\n",
    "Benötigt werden außerdem die Werte $F_0 = 0$ und $F_1 = 1$, die nicht aus vorherigen berechnet werden."
   ]
  },
  {
   "cell_type": "code",
   "execution_count": null,
   "metadata": {
    "collapsed": false
   },
   "outputs": [],
   "source": [
    "# Diese Schleife rechnet die ersten 30 Fibonacci Zahlen aus und gibt die Werte als Tabelle aus\n",
    "for n in 0:30\n",
    "    fibonacci_n = 0\n",
    "    # in diesem Bereich soll die n-te Fibonacci-Zahl berechnet werden und in der Variable\n",
    "    # fibonacci_n gespeichert werden\n",
    "    ### ...\n",
    "    @printf \"%5i %10i\\n\" n fibonacci_n\n",
    "end"
   ]
  },
  {
   "cell_type": "markdown",
   "metadata": {},
   "source": [
    "Das Verhältnis zweier aufeinanderfolgender Fibonacci-Zahlen verhält sich asymptotisch wie der goldene Schnitt $\\phi = \\frac{1}{2}(1 + \\sqrt{5})$. Ab welchem Index $n$, ist die Abweichung kleiner als $10^{-1}, 10^{-3}, 10^{-5}$?"
   ]
  },
  {
   "cell_type": "code",
   "execution_count": null,
   "metadata": {
    "collapsed": false
   },
   "outputs": [],
   "source": [
    "golden_ratio = 0.5 * (1 + sqrt(5))\n",
    "precision = 1e-1\n",
    "n = 2\n",
    "\n",
    "# Dieser Typ Schleife laeuft bis sie durch ein break unterbrochen wird.\n",
    "while true\n",
    "    ### Berechnung der n-ten Fibonacci-Zahl\n",
    "    ### ...\n",
    "    ### Vergleich von n-ter Fibonacci-Zahl und goldenem Schnitt\n",
    "    ### abbrechen oder weiter?\n",
    "    ### ... \n",
    "    \n",
    "    if n > 1000000\n",
    "        println(\"Precision not attainable for n <= 1000000\")\n",
    "        break\n",
    "    end\n",
    "end"
   ]
  },
  {
   "cell_type": "code",
   "execution_count": null,
   "metadata": {
    "collapsed": true
   },
   "outputs": [],
   "source": []
  }
 ],
 "metadata": {
  "kernelspec": {
   "display_name": "Julia 0.4.3",
   "language": "julia",
   "name": "julia-0.4"
  },
  "language_info": {
   "file_extension": ".jl",
   "mimetype": "application/julia",
   "name": "julia",
   "version": "0.4.3"
  }
 },
 "nbformat": 4,
 "nbformat_minor": 0
}
