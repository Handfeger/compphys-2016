{
 "cells": [
  {
   "cell_type": "markdown",
   "metadata": {},
   "source": [
    "<img src=\"http://www.thp.uni-koeln.de/trebst/Lectures/CompPhys-2016/einstein.png\"/> "
   ]
  },
  {
   "cell_type": "code",
   "execution_count": 14,
   "metadata": {
    "collapsed": false,
    "scrolled": true
   },
   "outputs": [
    {
     "name": "stderr",
     "output_type": "stream",
     "text": [
      "INFO: Cloning cache of RecipesBase from git://github.com/JuliaPlots/RecipesBase.jl.git\n",
      "INFO: Cloning cache of SymPy from git://github.com/jverzani/SymPy.jl.git\n",
      "INFO: Installing RecipesBase v0.0.3\n",
      "INFO: Installing SymPy v0.3.1\n",
      "INFO: Building PyCall\n",
      "INFO: PyCall is using /usr/bin/python (Python 2.7.6) at /usr/bin/python, libpython = libpython2.7\n",
      "INFO: Package database updated\n"
     ]
    }
   ],
   "source": [
    "## sympy\n",
    "Pkg.add(\"SymPy\")"
   ]
  },
  {
   "cell_type": "code",
   "execution_count": null,
   "metadata": {
    "collapsed": false
   },
   "outputs": [
    {
     "name": "stderr",
     "output_type": "stream",
     "text": [
      "INFO: Recompiling stale cache file /home/juser/.julia/lib/v0.4/SymPy.ji for module SymPy.\n",
      "WARNING: Module BinDeps uuid did not match cache file\n",
      "  This is likely because module BinDeps does not support  precompilation but is imported by a module that does.\n",
      "WARNING: deserialization checks failed while attempting to load cache from /home/juser/.julia/lib/v0.4/SymPy.ji\n",
      "INFO: Precompiling module SymPy...\n",
      "INFO: Recompiling stale cache file /home/juser/.julia/lib/v0.4/SymPy.ji for module SymPy.\n"
     ]
    }
   ],
   "source": [
    "using SymPy"
   ]
  },
  {
   "cell_type": "code",
   "execution_count": null,
   "metadata": {
    "collapsed": true
   },
   "outputs": [],
   "source": []
  }
 ],
 "metadata": {
  "kernelspec": {
   "display_name": "Julia 0.4.5",
   "language": "julia",
   "name": "julia-0.4"
  },
  "language_info": {
   "file_extension": ".jl",
   "mimetype": "application/julia",
   "name": "julia",
   "version": "0.4.5"
  }
 },
 "nbformat": 4,
 "nbformat_minor": 0
}
