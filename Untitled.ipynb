{
 "cells": [
  {
   "cell_type": "markdown",
   "metadata": {},
   "source": [
    "<img src=\"http://www.thp.uni-koeln.de/trebst/Lectures/CompPhys-2016/einstein.png\"/> "
   ]
  },
  {
   "cell_type": "code",
   "execution_count": 1,
   "metadata": {
    "collapsed": false
   },
   "outputs": [
    {
     "name": "stderr",
     "output_type": "stream",
     "text": [
      "INFO: Recompiling stale cache file /Users/mvielmetter/.julia/lib/v0.4/PyPlot.ji for module PyPlot.\n",
      "INFO: Recompiling stale cache file /Users/mvielmetter/.julia/lib/v0.4/PyCall.ji for module PyCall.\n",
      "Assertion failed: (ctx->gensym_assigned.at(idx)), function emit_expr, file codegen.cpp, line 3155.\n",
      "\n",
      "signal (6): Abort trap: 6\n",
      "__pthread_kill at /usr/lib/system/libsystem_kernel.dylib (unknown line)\n",
      "ERROR: LoadError: Failed to precompile PyCall to /Users/mvielmetter/.julia/lib/v0.4/PyCall.ji\n",
      " in error at /usr/local/Cellar/julia/0.4.5_1/lib/julia/sys.dylib\n",
      " in compilecache at loading.jl:400\n",
      " in recompile_stale at loading.jl:476\n",
      " in _require_from_serialized at loading.jl:83\n",
      " in _require_from_serialized at /usr/local/Cellar/julia/0.4.5_1/lib/julia/sys.dylib\n",
      " in require at /usr/local/Cellar/julia/0.4.5_1/lib/julia/sys.dylib\n",
      " in include at /usr/local/Cellar/julia/0.4.5_1/lib/julia/sys.dylib\n",
      " in include_from_node1 at /usr/local/Cellar/julia/0.4.5_1/lib/julia/sys.dylib\n",
      " [inlined code] from none:2\n",
      " in anonymous at no file:0\n",
      " in process_options at /usr/local/Cellar/julia/0.4.5_1/lib/julia/sys.dylib\n",
      " in _start at /usr/local/Cellar/julia/0.4.5_1/lib/julia/sys.dylib\n",
      "while loading /Users/mvielmetter/.julia/v0.4/PyPlot/src/PyPlot.jl, in expression starting on line 5\n"
     ]
    },
    {
     "ename": "LoadError",
     "evalue": "LoadError: Failed to precompile PyPlot to /Users/mvielmetter/.julia/lib/v0.4/PyPlot.ji\nwhile loading In[1], in expression starting on line 1",
     "output_type": "error",
     "traceback": [
      "LoadError: Failed to precompile PyPlot to /Users/mvielmetter/.julia/lib/v0.4/PyPlot.ji\nwhile loading In[1], in expression starting on line 1",
      "",
      " in error at /usr/local/Cellar/julia/0.4.5_1/lib/julia/sys.dylib",
      " in compilecache at loading.jl:400",
      " in recompile_stale at loading.jl:476",
      " in _require_from_serialized at loading.jl:83",
      " in _require_from_serialized at /usr/local/Cellar/julia/0.4.5_1/lib/julia/sys.dylib",
      " in require at /usr/local/Cellar/julia/0.4.5_1/lib/julia/sys.dylib"
     ]
    }
   ],
   "source": [
    "using PyPlot\n",
    "Einstein = imread(\"http://www.thp.uni-koeln.de/trebst/Lectures/CompPhys-2016/einstein.png\")"
   ]
  },
  {
   "cell_type": "code",
   "execution_count": null,
   "metadata": {
    "collapsed": true
   },
   "outputs": [],
   "source": []
  }
 ],
 "metadata": {
  "kernelspec": {
   "display_name": "Julia 0.4.5",
   "language": "julia",
   "name": "julia-0.4"
  },
  "language_info": {
   "file_extension": ".jl",
   "mimetype": "application/julia",
   "name": "julia",
   "version": "0.4.5"
  }
 },
 "nbformat": 4,
 "nbformat_minor": 0
}
