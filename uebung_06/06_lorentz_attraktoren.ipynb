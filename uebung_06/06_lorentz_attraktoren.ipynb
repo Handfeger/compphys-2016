{
 "cells": [
  {
   "cell_type": "markdown",
   "metadata": {},
   "source": [
    "<table style=\"width: 100%; border-style: none;\">\n",
    "<tr style=\"border-style: none\">\n",
    "<td style=\"border-style: none; width: 1%; font-size: 16px\">Institut f&uuml;r Theoretische Physik<br /> Universit&auml;t zu K&ouml;ln</td>\n",
    "<td style=\"border-style: none; width: 1%; font-size: 16px\">&nbsp;</td>\n",
    "<td style=\"border-style: none; width: 1%; text-align: right; font-size: 16px\">Prof. Dr. Simon Trebst<br />Peter Br&ouml;cker</td>\n",
    "</tr>\n",
    "</table>\n",
    "<hr>\n",
    "<h1 style=\"font-weight:bold; text-align: center; margin: 0px; padding:0px;\">Computerphysik</h1>\n",
    "<h1 style=\"font-weight:bold; text-align: center; margin: 0px; padding:0px;\">&Uuml;bungsblatt 5</h1>\n",
    "<hr>\n",
    "<h3 style=\"font-weight:bold; text-align: center; margin: 0px; padding:0px; margin-bottom: 20px;\">Sommersemester 2016</h3>\n",
    "\n",
    "**Website:** [http://www.thp.uni-koeln.de/trebst/Lectures/2016-CompPhys.shtml](http://www.thp.uni-koeln.de/trebst/Lectures/2016-CompPhys.shtml)\n",
    "\n",
    "**Abgabe**: Montag, 30. Mai, 2016 vor der Vorlesung\n",
    "\n",
    "**Name**: <font color=\"red\">Michel Vielmetter</font>\n",
    "\n",
    "**Matrikelnummer**: <font color=\"red\">5920493</font>"
   ]
  },
  {
   "cell_type": "markdown",
   "metadata": {},
   "source": [
    "<table style=\"border-style: none; width: 100%\"><tr style=\"border-style: none;\">\n",
    "<td style=\"border-style: none; width: 1%; font-size: 20px; font-weight: bold\">Lorenz-Attraktor</td>\n",
    "<td style=\"border-style: none; width: 1%; text-align: right\">(5 Punkte)</td></tr></table>\n",
    "\n",
    "#### Teil A\n",
    "\n",
    "Für die Simulation eines einfachen **Wetter-Modells** hat der Meteorologe Edward Lorenz 1963 eine Beschreibung von \n",
    "Luftströmungen entworfen. Dazu hat er ein Gleichungssystem von drei gekoppelten Differentialgleichungen betrachtet:\n",
    "\\begin{align}\n",
    "\\dot{X} &= a\\left(Y - X\\right) \\\\\n",
    "\\dot{Y} &= X\\left(b-Z\\right)-Y\\\\\n",
    "\\dot{Z} &= X Y - c Z.\n",
    "\\end{align}  \n",
    "Berechnen Sie mittels des **Runge-Kutta-Verfahrens 4. Ordnung** eine Lösung für $X(t)$, $Y(t)$ und $Z(t)$ und stellen sie diese für $t \\in [0, 100]$ dar.\n",
    "\n",
    "Wählen Sie dabei eine Schrittweite von $\\Delta t = 0.01$ und verwenden Sie die folgenden Parameter und Startwerte:\n",
    "\\begin{align*}\n",
    " &a=10,\\; b=28,\\; c=8/3, \\\\\n",
    " &X(0)=0,\\; Y(0)=1,\\; Z(0)=1.05.\n",
    "\\end{align*} \n",
    "\n",
    "Zur Visualisierung können Sie Schnitte in der $xy$, $xz$ und $yz$-Ebene wählen.\n",
    "\n",
    "Wie sich erst im Laufe der nächsten Dekaden herausstellen sollte, hat Edward Lorenz mit diesem einfachen Modell einen ganz neuen Forschungszweig gestartet - die sogenannte **Chaos-Forschung**. Lorenz selbst war sich der weitreichenden Implikationen seiner Beobachtung, dass die zeitliche Entwicklung eines relativ einfachen *deterministischen* Systems höchst empfindlich auf nur leicht veränderte Startbedingungen reagiert, voll bewusst und prägte schon früh den Begriff des **Schmetterlings-Effekts**. Wer sich zu diesen historischen Entwicklungen weiter informieren möchte, der sei auf diesen [Artikel](http://arxiv.org/pdf/1306.5777.pdf) zum 50-jährigen Jubiläum der Entdeckung des Lorenz-Attraktors hingewiesen.\n",
    "\n",
    "#### Teil B\n",
    "\n",
    "In diesem [Paper](http://www.sciencedirect.com/science/article/pii/037596019390735I) beschreiben die Autoren mathematisch motitiviert, wie sich die Form des Lorenz-Attraktors verändern lässt. Dabei stößt man beispielsweise auf den folgenden Satz an Gleichungen:\n",
    "\n",
    "\\begin{align}\n",
    "\\dot{X} &= \\frac{\\left(-a X^3 + (2a + b - Z)X^2 Y + (a - 2) X Y^2 - (b - Z)Y^3\\right)}{2(X^2 + Y^2)} \\\\\n",
    "\\dot{Y} &= \\frac{\\left( (b - Z) X^3 + (a - 2) X^2 Y + (-2a - b + Z)X Y^2 - a Y^3\\right)}{2(X^2 + Y^2)} \\\\\n",
    "\\dot{Z} &= 2 X^3 Y - 2 X Y^3 - c Z \\\\\n",
    "\\end{align}  \n",
    "\n",
    "Wenden Sie auch auf diese Gleichungen das Runge-Kutta-Verfahren an und stellen Sie das Ergebnis wie zuvor dar. Die Parameter und Randbedingungen sind die Gleichen wie in Teil A."
   ]
  },
  {
   "cell_type": "code",
   "execution_count": 1,
   "metadata": {
    "collapsed": false
   },
   "outputs": [],
   "source": [
    "function lorenz1(t, r)\n",
    "    (x, y, z) = r\n",
    "    \n",
    "    [\n",
    "        a * (y - x);\n",
    "        x * (b - z) - y;\n",
    "        x * y - c * z\n",
    "    ]\n",
    "end\n",
    "\n",
    "function lorenz2(t, r)\n",
    "    (x, y, z) = r\n",
    "    [\n",
    "        (-1 * a * x^3 + (2 * a + b - z) * x^2 * y + (a - 2) * x * y^2 - (b - z) * y^3) / (2*(x^2 + y^2));\n",
    "        ((b - z) * x^3 + (a - 2) * x^2 * y + (-2 * a - b + z) * x * y^2 - a * y^3) / (2*(x^2 + y^2));\n",
    "        2 * x^3 * y - 2 * x * y^3 - c*z\n",
    "    ]\n",
    "end;"
   ]
  },
  {
   "cell_type": "code",
   "execution_count": 2,
   "metadata": {
    "collapsed": false
   },
   "outputs": [],
   "source": [
    "using PyCall, PyPlot\n",
    "@pyimport matplotlib.animation as anim\n",
    "\n",
    "function timePlot(T, r; speed = 10, limits = [0 0; 0 0; 0 0])\n",
    "    pygui(true)\n",
    "    x = map(x->x[1],r)\n",
    "    y = map(y->y[2],r)\n",
    "    z = map(z->z[3],r)\n",
    "    \n",
    "    point = plot3D([x[1]], [y[1]], [z[1]], \"ro\")[1]\n",
    "    tail = plot3D([x[1]], [y[1]], [z[1]], \"g-\")[1]\n",
    "    \n",
    "    xlim(limits[1,1] == 0 ? minimum(x) : limits[1,1], limits[1,2] == 0 ? maximum(x) : limits[1,2])\n",
    "    ylim(limits[2,1] == 0 ? minimum(y) : limits[2,1], limits[2,2] == 0 ? maximum(y) : limits[2,2])\n",
    "    zlim(limits[3,1] == 0 ? minimum(z) : limits[3,1], limits[3,2] == 0 ? maximum(z) : limits[3,2])\n",
    "        \n",
    "    for i in eachindex(T)\n",
    "        if i%speed != 0 continue end\n",
    "        point[:set_data](x[i], y[i])\n",
    "        point[:set_3d_properties](z[i])\n",
    "        tail[:set_data](x[1:i], y[1:i])\n",
    "        tail[:set_3d_properties](z[1:i])\n",
    "        sleep(.01)\n",
    "    end\n",
    "end;"
   ]
  },
  {
   "cell_type": "code",
   "execution_count": 3,
   "metadata": {
    "collapsed": false
   },
   "outputs": [],
   "source": [
    "using ODE\n",
    "\n",
    "const a = 10\n",
    "const b = 28\n",
    "const c = 8/3\n",
    "\n",
    "const dt = .01\n",
    "const tEnd = 100\n",
    "\n",
    "const r0 = [0.;1.;1.05];"
   ]
  },
  {
   "cell_type": "code",
   "execution_count": 37,
   "metadata": {
    "collapsed": false
   },
   "outputs": [],
   "source": [
    "(T, r) = ode45(lorenz1,r0,0:dt:tEnd)\n",
    "timePlot(T, r, speed = 10);\n"
   ]
  },
  {
   "cell_type": "code",
   "execution_count": 38,
   "metadata": {
    "collapsed": false
   },
   "outputs": [],
   "source": [
    "(T, r) = ode45(lorenz2,r0,0:dt:tEnd)\n",
    "timePlot(T, r, speed = 10);"
   ]
  },
  {
   "cell_type": "code",
   "execution_count": 4,
   "metadata": {
    "collapsed": false
   },
   "outputs": [],
   "source": [
    "function multiplot(r0s)\n",
    "    speed = 20\n",
    "    for i in 1:Int64(length(r0s)/3)\n",
    "#         @show r0s[i:i+2]\n",
    "        (T, r) = ode45(lorenz2,r0s[i:i+2],0:dt:tEnd)\n",
    "#         timePlot(T, r, speed = 10);\n",
    "    end\n",
    "end\n",
    "\n",
    "multiplot([\n",
    "    [0.;    1.;    1.05];\n",
    "    [0.2 ;  0.5 ;  .95]\n",
    "])\n"
   ]
  },
  {
   "cell_type": "code",
   "execution_count": 2,
   "metadata": {
    "collapsed": false
   },
   "outputs": [
    {
     "data": {
      "text/plain": [
       "6-element Array{Float64,1}:\n",
       " 0.0 \n",
       " 1.0 \n",
       " 1.05\n",
       " 0.2 \n",
       " 0.5 \n",
       " 0.95"
      ]
     },
     "execution_count": 2,
     "metadata": {},
     "output_type": "execute_result"
    }
   ],
   "source": [
    "[\n",
    "    [0.;    1.;    1.05];\n",
    "    [0.2 ;  0.5 ;  .95]\n",
    "    ]"
   ]
  }
 ],
 "metadata": {
  "kernelspec": {
   "display_name": "Julia 0.4.5",
   "language": "julia",
   "name": "julia-0.4"
  },
  "language_info": {
   "file_extension": ".jl",
   "mimetype": "application/julia",
   "name": "julia",
   "version": "0.4.5"
  }
 },
 "nbformat": 4,
 "nbformat_minor": 0
}
