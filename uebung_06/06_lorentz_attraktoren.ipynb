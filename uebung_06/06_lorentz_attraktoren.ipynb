{
 "cells": [
  {
   "cell_type": "markdown",
   "metadata": {},
   "source": [
    "<table style=\"width: 100%; border-style: none;\">\n",
    "<tr style=\"border-style: none\">\n",
    "<td style=\"border-style: none; width: 1%; font-size: 16px\">Institut f&uuml;r Theoretische Physik<br /> Universit&auml;t zu K&ouml;ln</td>\n",
    "<td style=\"border-style: none; width: 1%; font-size: 16px\">&nbsp;</td>\n",
    "<td style=\"border-style: none; width: 1%; text-align: right; font-size: 16px\">Prof. Dr. Simon Trebst<br />Peter Br&ouml;cker</td>\n",
    "</tr>\n",
    "</table>\n",
    "<hr>\n",
    "<h1 style=\"font-weight:bold; text-align: center; margin: 0px; padding:0px;\">Computerphysik</h1>\n",
    "<h1 style=\"font-weight:bold; text-align: center; margin: 0px; padding:0px;\">&Uuml;bungsblatt 5</h1>\n",
    "<hr>\n",
    "<h3 style=\"font-weight:bold; text-align: center; margin: 0px; padding:0px; margin-bottom: 20px;\">Sommersemester 2016</h3>\n",
    "\n",
    "**Website:** [http://www.thp.uni-koeln.de/trebst/Lectures/2016-CompPhys.shtml](http://www.thp.uni-koeln.de/trebst/Lectures/2016-CompPhys.shtml)\n",
    "\n",
    "**Abgabe**: Montag, 30. Mai, 2016 vor der Vorlesung\n",
    "\n",
    "**Name**: <font color=\"red\">Michel Vielmetter</font>\n",
    "\n",
    "**Matrikelnummer**: <font color=\"red\">5920493</font>"
   ]
  },
  {
   "cell_type": "markdown",
   "metadata": {},
   "source": [
    "<table style=\"border-style: none; width: 100%\"><tr style=\"border-style: none;\">\n",
    "<td style=\"border-style: none; width: 1%; font-size: 20px; font-weight: bold\">Lorenz-Attraktor</td>\n",
    "<td style=\"border-style: none; width: 1%; text-align: right\">(5 Punkte)</td></tr></table>\n",
    "\n",
    "#### Teil A\n",
    "\n",
    "Für die Simulation eines einfachen **Wetter-Modells** hat der Meteorologe Edward Lorenz 1963 eine Beschreibung von \n",
    "Luftströmungen entworfen. Dazu hat er ein Gleichungssystem von drei gekoppelten Differentialgleichungen betrachtet:\n",
    "\\begin{align}\n",
    "\\dot{X} &= a\\left(Y - X\\right) \\\\\n",
    "\\dot{Y} &= X\\left(b-Z\\right)-Y\\\\\n",
    "\\dot{Z} &= X Y - c Z.\n",
    "\\end{align}  \n",
    "Berechnen Sie mittels des **Runge-Kutta-Verfahrens 4. Ordnung** eine Lösung für $X(t)$, $Y(t)$ und $Z(t)$ und stellen sie diese für $t \\in [0, 100]$ dar.\n",
    "\n",
    "Wählen Sie dabei eine Schrittweite von $\\Delta t = 0.01$ und verwenden Sie die folgenden Parameter und Startwerte:\n",
    "\\begin{align*}\n",
    " &a=10,\\; b=28,\\; c=8/3, \\\\\n",
    " &X(0)=0,\\; Y(0)=1,\\; Z(0)=1.05.\n",
    "\\end{align*} \n",
    "\n",
    "Zur Visualisierung können Sie Schnitte in der $xy$, $xz$ und $yz$-Ebene wählen.\n",
    "\n",
    "Wie sich erst im Laufe der nächsten Dekaden herausstellen sollte, hat Edward Lorenz mit diesem einfachen Modell einen ganz neuen Forschungszweig gestartet - die sogenannte **Chaos-Forschung**. Lorenz selbst war sich der weitreichenden Implikationen seiner Beobachtung, dass die zeitliche Entwicklung eines relativ einfachen *deterministischen* Systems höchst empfindlich auf nur leicht veränderte Startbedingungen reagiert, voll bewusst und prägte schon früh den Begriff des **Schmetterlings-Effekts**. Wer sich zu diesen historischen Entwicklungen weiter informieren möchte, der sei auf diesen [Artikel](http://arxiv.org/pdf/1306.5777.pdf) zum 50-jährigen Jubiläum der Entdeckung des Lorenz-Attraktors hingewiesen.\n",
    "\n",
    "#### Teil B\n",
    "\n",
    "In diesem [Paper](http://www.sciencedirect.com/science/article/pii/037596019390735I) beschreiben die Autoren mathematisch motitiviert, wie sich die Form des Lorenz-Attraktors verändern lässt. Dabei stößt man beispielsweise auf den folgenden Satz an Gleichungen:\n",
    "\n",
    "\\begin{align}\n",
    "\\dot{X} &= \\frac{\\left(-a X^3 + (2a + b - Z)X^2 Y + (a - 2) X Y^2 - (b - Z)Y^3\\right)}{2(X^2 + Y^2)} \\\\\n",
    "\\dot{Y} &= \\frac{\\left( (b - Z) X^3 + (a - 2) X^2 Y + (-2a - b + Z)X Y^2 - a Y^3\\right)}{2(X^2 + Y^2)} \\\\\n",
    "\\dot{Z} &= 2 X^3 Y - 2 X Y^3 - c Z \\\\\n",
    "\\end{align}  \n",
    "\n",
    "Wenden Sie auch auf diese Gleichungen das Runge-Kutta-Verfahren an und stellen Sie das Ergebnis wie zuvor dar. Die Parameter und Randbedingungen sind die Gleichen wie in Teil A."
   ]
  },
  {
   "cell_type": "code",
   "execution_count": 1,
   "metadata": {
    "collapsed": false
   },
   "outputs": [],
   "source": [
    "function lorenz1(t, r)\n",
    "    (x, y, z) = r\n",
    "    \n",
    "    [\n",
    "        a * (y - x);\n",
    "        x * (b - z) - y;\n",
    "        x * y - c * z\n",
    "    ]\n",
    "end\n",
    "\n",
    "function lorenz2(t, r)\n",
    "    (x, y, z) = r\n",
    "    [\n",
    "        (-1 * a * x^3 + (2 * a + b - z) * x^2 * y + (a - 2) * x * y^2 - (b - z) * y^3) / (2*(x^2 + y^2));\n",
    "        ((b - z) * x^3 + (a - 2) * x^2 * y + (-2 * a - b + z) * x * y^2 - a * y^3) / (2*(x^2 + y^2));\n",
    "        2 * x^3 * y - 2 * x * y^3 - c*z\n",
    "    ]\n",
    "end;"
   ]
  },
  {
   "cell_type": "code",
   "execution_count": 2,
   "metadata": {
    "collapsed": false
   },
   "outputs": [],
   "source": [
    "using PyCall, PyPlot\n",
    "\n",
    "function timePlot(T, r; speed = 10, limits = [0 0; 0 0; 0 0], )\n",
    "    pygui(true)\n",
    "    x = map(x->x[1],r)\n",
    "    y = map(y->y[2],r)\n",
    "    z = map(z->z[3],r)\n",
    "    \n",
    "    tail = plot3D([x[1]], [y[1]], [z[1]], \"g-\")[1]\n",
    "    point = plot3D([x[1]], [y[1]], [z[1]], \"ro\")[1]\n",
    "    \n",
    "    xlim(limits[1,1] == 0 ? minimum(x) : limits[1,1], limits[1,2] == 0 ? maximum(x) : limits[1,2])\n",
    "    ylim(limits[2,1] == 0 ? minimum(y) : limits[2,1], limits[2,2] == 0 ? maximum(y) : limits[2,2])\n",
    "    zlim(limits[3,1] == 0 ? minimum(z) : limits[3,1], limits[3,2] == 0 ? maximum(z) : limits[3,2])\n",
    "        \n",
    "    for i in eachindex(T)\n",
    "        if i%speed != 0 continue end\n",
    "        tail[:set_data](x[1:i], y[1:i])\n",
    "        tail[:set_3d_properties](z[1:i])\n",
    "        point[:set_data](x[i], y[i])\n",
    "        point[:set_3d_properties](z[i])\n",
    "        sleep(.01)\n",
    "    end\n",
    "end;"
   ]
  },
  {
   "cell_type": "code",
   "execution_count": 3,
   "metadata": {
    "collapsed": false
   },
   "outputs": [],
   "source": [
    "using ODE\n",
    "\n",
    "const a = 10\n",
    "const b = 28\n",
    "const c = 8/3\n",
    "\n",
    "const dt = .01\n",
    "const tEnd = 100\n",
    "\n",
    "const r0 = [0.;1.;1.05];"
   ]
  },
  {
   "cell_type": "code",
   "execution_count": 4,
   "metadata": {
    "collapsed": false
   },
   "outputs": [],
   "source": [
    "(T, r) = ode45(lorenz1,r0,0:dt:tEnd)\n",
    "timePlot(T, r, speed = 10);\n"
   ]
  },
  {
   "cell_type": "code",
   "execution_count": null,
   "metadata": {
    "collapsed": false
   },
   "outputs": [],
   "source": [
    "(T, r) = ode45(lorenz2,r0,0:dt:tEnd)\n",
    "timePlot(T, r, speed = 10);"
   ]
  },
  {
   "cell_type": "code",
   "execution_count": 6,
   "metadata": {
    "collapsed": false
   },
   "outputs": [
    {
     "data": {
      "text/plain": [
       "2-element Array{Any,1}:\n",
       " ([0.0,0.01,0.0131158,0.02,0.0251556,0.03,0.0394875,0.04,0.05,0.0557246  …  99.9326,99.94,99.95,99.9579,99.96,99.97,99.98,99.9812,99.99,100.0],[[0.0,1.0,1.05],[0.09510876577000026,1.0030334426862475,1.0228484736237804],[0.123046750673687,1.009077804543208,1.0147261568492734],[0.18265324763645113,1.0305052324138702,0.9973327454145048],[0.22581543445113253,1.053590384228719,0.9848058235878651],[0.26558668317705847,1.0805867848114492,0.9734272541261229],[0.34230919361240864,1.1480227621928303,0.9522844360076729],[0.34643858352502027,1.1522069219854254,0.951186711873534],[0.42743768232515733,1.2449082257728774,0.9307334363229657],[0.47464402740293543,1.307510135328946,0.9199044416003759]  …  [-4.471681402061334,0.32753926472905504,28.941025779350028],[-4.128202700129126,0.346001897828168,28.36418995868127],[-3.702393149817861,0.34212654823440475,27.60443854499712],[-3.3951889523108143,0.32013863494239964,27.018356519841632],[-3.318742962758195,0.31210207612369845,26.86661166191333],[-2.9755058103222414,0.2625479427722727,26.15068581360608],[-2.670361449239796,0.1983431949156716,25.456085714945157],[-2.6363072122412756,0.18990637851222814,25.374415324209878],[-2.4009033344198487,0.1238896668733956,24.782172297090913],[-2.164539794384091,0.04229625426441408,24.128156111297507]])\n",
       " ([0.0,0.01,0.0131951,0.02,0.0299436,0.03,0.04,0.0482576,0.05,0.06  …  99.94,99.9436,99.95,99.96,99.9652,99.97,99.98,99.9859,99.99,100.0],[[1.0,1.05,0.2],[1.0177019088158221,1.3180154535249433,0.2065073134333472],[1.0285142964751444,1.404495942431244,0.20918663396948076],[1.0594326326881163,1.5915521309302445,0.21596068639288865],[1.1233452215933966,1.875275653777869,0.22885831762178402],[1.1237693219800933,1.8769283632839966,0.22894270953814438],[1.2099281267742565,2.1801109591474703,0.2462434942981207],[1.2974819419338197,2.44796014423584,0.26456915093739497],[1.3178612347862095,2.5068313792700954,0.26897231302915897],[1.447952968695211,2.862780330953467,0.29848441393548597]  …  [13.822697735712358,10.975820934024364,36.80652873320966],[13.715059922322913,10.502244683331673,36.98266401627801],[13.487141950727185,9.638409475597962,37.22755948710782],[13.056305683483558,8.307884158857624,37.423530035831774],[12.797003969320455,7.628272026667279,37.440434800308665],[12.541828481102652,7.023432947187201,37.40698666040588],[11.957585169554903,5.817397397225422,37.198262060236026],[11.58426928593405,5.148913632206239,36.99425129595844],[11.319006737849616,4.713870790023332,36.823591801742076],[10.641827381669442,3.7293314463762783,36.311257607662554]])                         "
      ]
     },
     "execution_count": 6,
     "metadata": {},
     "output_type": "execute_result"
    }
   ],
   "source": [
    "function multiplot(r0s)\n",
    "    speed = 20\n",
    "    values = []\n",
    "    for i in 1:Int64(length(r0s)/3)\n",
    "#         @show r0s[i:i+2]\n",
    "        push!(values, ode45(lorenz1,r0s[i:i+2],0:dt:tEnd))\n",
    "    end\n",
    "    \n",
    "    tails = []\n",
    "    values = []\n",
    "    \n",
    "    limits = [1e10 0; 1e10 0; 1e10 0]\n",
    "    \n",
    "    for (i,val) in enumerate(values)\n",
    "        limits[1,:] = [min(val[1], limits[1,1]) max(val[1], limits[1,2])]\n",
    "        limits[2,:] = [min(val[2], limits[2,1]) max(val[2], limits[2,2])]\n",
    "        limits[3,:] = [min(val[3], limits[3,1]) max(val[3], limits[3,2])]\n",
    "        \n",
    "        push!(tails, plot3D([val[1][1]], [val[1][1]], [val[1][1]], \"-\")[1])\n",
    "        push!(points, plot3D([val[1][1]], [val[1][1]], [val[1][1]], \"o\")[1])\n",
    "    end\n",
    "    \n",
    "    xlim(limits[1,1], limits[1,2])\n",
    "    ylim(limits[2,1], limits[2,2])\n",
    "    zlim(limits[3,1], limits[3,2])\n",
    "    \n",
    "    for i in eachindex(values[1][1])\n",
    "        if i%speed != 0 continue end\n",
    "        for (i, val) in enumerate(values)\n",
    "            tails[i][:set_data](val[1][1:i], val[2][1:i])\n",
    "            tails[i][:set_3d_properties](val[3][1:i])\n",
    "            points[i][:set_data](val[1][i], val[2][i])\n",
    "            points[i][:set_3d_properties](val[3][i])\n",
    "            sleep(.01)\n",
    "        end\n",
    "    end\n",
    "end\n",
    "\n",
    "multiplot([\n",
    "    [0.;    1.;    1.05];\n",
    "    [0.2 ;  0.5 ;  .95]\n",
    "])\n"
   ]
  }
 ],
 "metadata": {
  "kernelspec": {
   "display_name": "Julia 0.4.5",
   "language": "julia",
   "name": "julia-0.4"
  },
  "language_info": {
   "file_extension": ".jl",
   "mimetype": "application/julia",
   "name": "julia",
   "version": "0.4.5"
  }
 },
 "nbformat": 4,
 "nbformat_minor": 0
}
